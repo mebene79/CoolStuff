{
  "nbformat": 4,
  "nbformat_minor": 0,
  "metadata": {
    "colab": {
      "provenance": [],
      "toc_visible": true,
      "mount_file_id": "1b96u1nztCUjduw3SRxby5O60fYzvB81T",
      "authorship_tag": "ABX9TyMVMp9e/sl8q65XszR44/fZ",
      "include_colab_link": true
    },
    "kernelspec": {
      "name": "python3",
      "display_name": "Python 3"
    },
    "language_info": {
      "name": "python"
    }
  },
  "cells": [
    {
      "cell_type": "markdown",
      "metadata": {
        "id": "view-in-github",
        "colab_type": "text"
      },
      "source": [
        "<a href=\"https://colab.research.google.com/github/mebene79/CoolStuff/blob/main/XgboostProj.ipynb\" target=\"_parent\"><img src=\"https://colab.research.google.com/assets/colab-badge.svg\" alt=\"Open In Colab\"/></a>"
      ]
    },
    {
      "cell_type": "markdown",
      "source": [
        "We explore diffrent ways to handle missing data in the Mushroom Data Set\n",
        "https://archive.ics.uci.edu/ml/datasets/mushroom\n",
        "\n",
        "In this Dataset the features and target are all categorical and one feature has misssing data . We explore ddifferent ways to deal with the missing information .\n",
        "\n",
        "*   First determine if the missing data is informative e.g. missing because of some underlying reason related to the target. If it's the case,then creating a new category like \"Missing\" might capture that.\n",
        "*   Imputation ,like replacing the missing values by the mode but choosing this option depends on whether or not the missingness is related to the target.\n",
        "*   Model-based imputation, like using a Random Forest to predict missing values\n",
        "*  Deleting all rows with missing values.\n",
        "*   Use Models that Handle Missing Data Natively(e.g., LightGBM, CatBoost)\n",
        "\n",
        "\n",
        "\n",
        "\n"
      ],
      "metadata": {
        "id": "Rq33NVt_unBt"
      }
    },
    {
      "cell_type": "markdown",
      "source": [],
      "metadata": {
        "id": "Y5VwtK28N8uX"
      }
    },
    {
      "cell_type": "markdown",
      "source": [
        "## Install and import relevant packages and modules."
      ],
      "metadata": {
        "id": "PAKcW1XqN20i"
      }
    },
    {
      "cell_type": "code",
      "source": [
        "pip install ucimlrepo"
      ],
      "metadata": {
        "colab": {
          "base_uri": "https://localhost:8080/"
        },
        "id": "qHBQJTuvN3ey",
        "outputId": "3451678c-6d94-4e2d-bbd6-f2da5138a067"
      },
      "execution_count": 1,
      "outputs": [
        {
          "output_type": "stream",
          "name": "stdout",
          "text": [
            "Collecting ucimlrepo\n",
            "  Downloading ucimlrepo-0.0.7-py3-none-any.whl.metadata (5.5 kB)\n",
            "Requirement already satisfied: pandas>=1.0.0 in /usr/local/lib/python3.11/dist-packages (from ucimlrepo) (2.2.2)\n",
            "Requirement already satisfied: certifi>=2020.12.5 in /usr/local/lib/python3.11/dist-packages (from ucimlrepo) (2025.1.31)\n",
            "Requirement already satisfied: numpy>=1.23.2 in /usr/local/lib/python3.11/dist-packages (from pandas>=1.0.0->ucimlrepo) (1.26.4)\n",
            "Requirement already satisfied: python-dateutil>=2.8.2 in /usr/local/lib/python3.11/dist-packages (from pandas>=1.0.0->ucimlrepo) (2.8.2)\n",
            "Requirement already satisfied: pytz>=2020.1 in /usr/local/lib/python3.11/dist-packages (from pandas>=1.0.0->ucimlrepo) (2025.1)\n",
            "Requirement already satisfied: tzdata>=2022.7 in /usr/local/lib/python3.11/dist-packages (from pandas>=1.0.0->ucimlrepo) (2025.1)\n",
            "Requirement already satisfied: six>=1.5 in /usr/local/lib/python3.11/dist-packages (from python-dateutil>=2.8.2->pandas>=1.0.0->ucimlrepo) (1.17.0)\n",
            "Downloading ucimlrepo-0.0.7-py3-none-any.whl (8.0 kB)\n",
            "Installing collected packages: ucimlrepo\n",
            "Successfully installed ucimlrepo-0.0.7\n"
          ]
        }
      ]
    },
    {
      "cell_type": "code",
      "source": [
        "from scipy.stats import chi2_contingency\n",
        "from sklearn.base import BaseEstimator, TransformerMixin\n",
        "from sklearn.model_selection import train_test_split\n",
        "from ucimlrepo import fetch_ucirepo\n",
        "import pandas as pd\n",
        "import numpy as np\n",
        "from sklearn.preprocessing import OneHotEncoder\n",
        "from sklearn.compose import ColumnTransformer\n",
        "from sklearn.ensemble import RandomForestClassifier\n",
        "from xgboost import XGBClassifier\n",
        "from sklearn.metrics import accuracy_score, roc_auc_score, confusion_matrix\n",
        "from sklearn.pipeline import Pipeline\n",
        "from sklearn.preprocessing import LabelEncoder\n",
        "import matplotlib.pyplot as plt # Added import for plotting\n",
        "from xgboost import plot_importance # Added import for plot_importance\n",
        "import lightgbm as lgb\n"
      ],
      "metadata": {
        "id": "1H0LGzZjG9a1",
        "colab": {
          "base_uri": "https://localhost:8080/"
        },
        "outputId": "4c1c9e91-2eee-468b-a87b-003c1b1c2162"
      },
      "execution_count": 62,
      "outputs": [
        {
          "output_type": "stream",
          "name": "stderr",
          "text": [
            "/usr/local/lib/python3.11/dist-packages/dask/dataframe/__init__.py:42: FutureWarning: \n",
            "Dask dataframe query planning is disabled because dask-expr is not installed.\n",
            "\n",
            "You can install it with `pip install dask[dataframe]` or `conda install dask`.\n",
            "This will raise in a future version.\n",
            "\n",
            "  warnings.warn(msg, FutureWarning)\n"
          ]
        }
      ]
    },
    {
      "cell_type": "markdown",
      "source": [
        "## Download data and Exploratory data analysis(EDA)"
      ],
      "metadata": {
        "id": "PdWovOCpPMkC"
      }
    },
    {
      "cell_type": "code",
      "source": [
        "\n",
        "\n",
        "# fetch dataset\n",
        "mushroom = fetch_ucirepo(id=73)\n",
        "\n",
        "# data (as pandas dataframes)\n",
        "X = mushroom.data.features\n",
        "y = mushroom.data.targets\n",
        "\n",
        "# metadata\n",
        "#print(mushroom.metadata)\n",
        "\n",
        "# variable information\n",
        "#print(mushroom.variables)\n"
      ],
      "metadata": {
        "id": "rreYI7UA9KC-"
      },
      "execution_count": 63,
      "outputs": []
    },
    {
      "cell_type": "code",
      "source": [
        "print(X.head())\n"
      ],
      "metadata": {
        "colab": {
          "base_uri": "https://localhost:8080/"
        },
        "id": "rrz4CzeUPWJc",
        "outputId": "a927bdc3-9ca7-4b43-9b4f-348726ff004e"
      },
      "execution_count": 4,
      "outputs": [
        {
          "output_type": "stream",
          "name": "stdout",
          "text": [
            "  cap-shape cap-surface cap-color bruises odor gill-attachment gill-spacing  \\\n",
            "0         x           s         n       t    p               f            c   \n",
            "1         x           s         y       t    a               f            c   \n",
            "2         b           s         w       t    l               f            c   \n",
            "3         x           y         w       t    p               f            c   \n",
            "4         x           s         g       f    n               f            w   \n",
            "\n",
            "  gill-size gill-color stalk-shape  ... stalk-surface-below-ring  \\\n",
            "0         n          k           e  ...                        s   \n",
            "1         b          k           e  ...                        s   \n",
            "2         b          n           e  ...                        s   \n",
            "3         n          n           e  ...                        s   \n",
            "4         b          k           t  ...                        s   \n",
            "\n",
            "  stalk-color-above-ring stalk-color-below-ring veil-type veil-color  \\\n",
            "0                      w                      w         p          w   \n",
            "1                      w                      w         p          w   \n",
            "2                      w                      w         p          w   \n",
            "3                      w                      w         p          w   \n",
            "4                      w                      w         p          w   \n",
            "\n",
            "  ring-number ring-type spore-print-color population habitat  \n",
            "0           o         p                 k          s       u  \n",
            "1           o         p                 n          n       g  \n",
            "2           o         p                 n          n       m  \n",
            "3           o         p                 k          s       u  \n",
            "4           o         e                 n          a       g  \n",
            "\n",
            "[5 rows x 22 columns]\n"
          ]
        }
      ]
    },
    {
      "cell_type": "code",
      "source": [
        "print(y.head())"
      ],
      "metadata": {
        "colab": {
          "base_uri": "https://localhost:8080/"
        },
        "id": "8cAfnAOuPlqv",
        "outputId": "a7a427aa-fbbe-4241-e88e-af361296d3be"
      },
      "execution_count": 5,
      "outputs": [
        {
          "output_type": "stream",
          "name": "stdout",
          "text": [
            "  poisonous\n",
            "0         p\n",
            "1         e\n",
            "2         e\n",
            "3         p\n",
            "4         e\n"
          ]
        }
      ]
    },
    {
      "cell_type": "code",
      "source": [
        "X.info()"
      ],
      "metadata": {
        "colab": {
          "base_uri": "https://localhost:8080/"
        },
        "id": "XTT7S-DBPq8n",
        "outputId": "50297e95-014d-4f1f-ce9c-785d8f0f1278"
      },
      "execution_count": 6,
      "outputs": [
        {
          "output_type": "stream",
          "name": "stdout",
          "text": [
            "<class 'pandas.core.frame.DataFrame'>\n",
            "RangeIndex: 8124 entries, 0 to 8123\n",
            "Data columns (total 22 columns):\n",
            " #   Column                    Non-Null Count  Dtype \n",
            "---  ------                    --------------  ----- \n",
            " 0   cap-shape                 8124 non-null   object\n",
            " 1   cap-surface               8124 non-null   object\n",
            " 2   cap-color                 8124 non-null   object\n",
            " 3   bruises                   8124 non-null   object\n",
            " 4   odor                      8124 non-null   object\n",
            " 5   gill-attachment           8124 non-null   object\n",
            " 6   gill-spacing              8124 non-null   object\n",
            " 7   gill-size                 8124 non-null   object\n",
            " 8   gill-color                8124 non-null   object\n",
            " 9   stalk-shape               8124 non-null   object\n",
            " 10  stalk-root                5644 non-null   object\n",
            " 11  stalk-surface-above-ring  8124 non-null   object\n",
            " 12  stalk-surface-below-ring  8124 non-null   object\n",
            " 13  stalk-color-above-ring    8124 non-null   object\n",
            " 14  stalk-color-below-ring    8124 non-null   object\n",
            " 15  veil-type                 8124 non-null   object\n",
            " 16  veil-color                8124 non-null   object\n",
            " 17  ring-number               8124 non-null   object\n",
            " 18  ring-type                 8124 non-null   object\n",
            " 19  spore-print-color         8124 non-null   object\n",
            " 20  population                8124 non-null   object\n",
            " 21  habitat                   8124 non-null   object\n",
            "dtypes: object(22)\n",
            "memory usage: 1.4+ MB\n"
          ]
        }
      ]
    },
    {
      "cell_type": "code",
      "source": [
        "X.isnull().sum()"
      ],
      "metadata": {
        "colab": {
          "base_uri": "https://localhost:8080/",
          "height": 774
        },
        "id": "8tY42ZGuPzkY",
        "outputId": "71307a32-f8af-4e83-83a0-e47a6b81262a"
      },
      "execution_count": 7,
      "outputs": [
        {
          "output_type": "execute_result",
          "data": {
            "text/plain": [
              "cap-shape                      0\n",
              "cap-surface                    0\n",
              "cap-color                      0\n",
              "bruises                        0\n",
              "odor                           0\n",
              "gill-attachment                0\n",
              "gill-spacing                   0\n",
              "gill-size                      0\n",
              "gill-color                     0\n",
              "stalk-shape                    0\n",
              "stalk-root                  2480\n",
              "stalk-surface-above-ring       0\n",
              "stalk-surface-below-ring       0\n",
              "stalk-color-above-ring         0\n",
              "stalk-color-below-ring         0\n",
              "veil-type                      0\n",
              "veil-color                     0\n",
              "ring-number                    0\n",
              "ring-type                      0\n",
              "spore-print-color              0\n",
              "population                     0\n",
              "habitat                        0\n",
              "dtype: int64"
            ],
            "text/html": [
              "<div>\n",
              "<style scoped>\n",
              "    .dataframe tbody tr th:only-of-type {\n",
              "        vertical-align: middle;\n",
              "    }\n",
              "\n",
              "    .dataframe tbody tr th {\n",
              "        vertical-align: top;\n",
              "    }\n",
              "\n",
              "    .dataframe thead th {\n",
              "        text-align: right;\n",
              "    }\n",
              "</style>\n",
              "<table border=\"1\" class=\"dataframe\">\n",
              "  <thead>\n",
              "    <tr style=\"text-align: right;\">\n",
              "      <th></th>\n",
              "      <th>0</th>\n",
              "    </tr>\n",
              "  </thead>\n",
              "  <tbody>\n",
              "    <tr>\n",
              "      <th>cap-shape</th>\n",
              "      <td>0</td>\n",
              "    </tr>\n",
              "    <tr>\n",
              "      <th>cap-surface</th>\n",
              "      <td>0</td>\n",
              "    </tr>\n",
              "    <tr>\n",
              "      <th>cap-color</th>\n",
              "      <td>0</td>\n",
              "    </tr>\n",
              "    <tr>\n",
              "      <th>bruises</th>\n",
              "      <td>0</td>\n",
              "    </tr>\n",
              "    <tr>\n",
              "      <th>odor</th>\n",
              "      <td>0</td>\n",
              "    </tr>\n",
              "    <tr>\n",
              "      <th>gill-attachment</th>\n",
              "      <td>0</td>\n",
              "    </tr>\n",
              "    <tr>\n",
              "      <th>gill-spacing</th>\n",
              "      <td>0</td>\n",
              "    </tr>\n",
              "    <tr>\n",
              "      <th>gill-size</th>\n",
              "      <td>0</td>\n",
              "    </tr>\n",
              "    <tr>\n",
              "      <th>gill-color</th>\n",
              "      <td>0</td>\n",
              "    </tr>\n",
              "    <tr>\n",
              "      <th>stalk-shape</th>\n",
              "      <td>0</td>\n",
              "    </tr>\n",
              "    <tr>\n",
              "      <th>stalk-root</th>\n",
              "      <td>2480</td>\n",
              "    </tr>\n",
              "    <tr>\n",
              "      <th>stalk-surface-above-ring</th>\n",
              "      <td>0</td>\n",
              "    </tr>\n",
              "    <tr>\n",
              "      <th>stalk-surface-below-ring</th>\n",
              "      <td>0</td>\n",
              "    </tr>\n",
              "    <tr>\n",
              "      <th>stalk-color-above-ring</th>\n",
              "      <td>0</td>\n",
              "    </tr>\n",
              "    <tr>\n",
              "      <th>stalk-color-below-ring</th>\n",
              "      <td>0</td>\n",
              "    </tr>\n",
              "    <tr>\n",
              "      <th>veil-type</th>\n",
              "      <td>0</td>\n",
              "    </tr>\n",
              "    <tr>\n",
              "      <th>veil-color</th>\n",
              "      <td>0</td>\n",
              "    </tr>\n",
              "    <tr>\n",
              "      <th>ring-number</th>\n",
              "      <td>0</td>\n",
              "    </tr>\n",
              "    <tr>\n",
              "      <th>ring-type</th>\n",
              "      <td>0</td>\n",
              "    </tr>\n",
              "    <tr>\n",
              "      <th>spore-print-color</th>\n",
              "      <td>0</td>\n",
              "    </tr>\n",
              "    <tr>\n",
              "      <th>population</th>\n",
              "      <td>0</td>\n",
              "    </tr>\n",
              "    <tr>\n",
              "      <th>habitat</th>\n",
              "      <td>0</td>\n",
              "    </tr>\n",
              "  </tbody>\n",
              "</table>\n",
              "</div><br><label><b>dtype:</b> int64</label>"
            ]
          },
          "metadata": {},
          "execution_count": 7
        }
      ]
    },
    {
      "cell_type": "markdown",
      "source": [
        "The column stalk-root has 2480 missing info. No other columns has missing information."
      ],
      "metadata": {
        "id": "-y-1G3j6SbFB"
      }
    },
    {
      "cell_type": "code",
      "source": [
        "X[X['stalk-root'].isna()]['stalk-root']"
      ],
      "metadata": {
        "colab": {
          "base_uri": "https://localhost:8080/",
          "height": 458
        },
        "id": "Ye3slZjwP_0A",
        "outputId": "09eb660d-8b1c-427e-8148-d08020515095"
      },
      "execution_count": 8,
      "outputs": [
        {
          "output_type": "execute_result",
          "data": {
            "text/plain": [
              "3984    NaN\n",
              "4023    NaN\n",
              "4076    NaN\n",
              "4100    NaN\n",
              "4104    NaN\n",
              "       ... \n",
              "8119    NaN\n",
              "8120    NaN\n",
              "8121    NaN\n",
              "8122    NaN\n",
              "8123    NaN\n",
              "Name: stalk-root, Length: 2480, dtype: object"
            ],
            "text/html": [
              "<div>\n",
              "<style scoped>\n",
              "    .dataframe tbody tr th:only-of-type {\n",
              "        vertical-align: middle;\n",
              "    }\n",
              "\n",
              "    .dataframe tbody tr th {\n",
              "        vertical-align: top;\n",
              "    }\n",
              "\n",
              "    .dataframe thead th {\n",
              "        text-align: right;\n",
              "    }\n",
              "</style>\n",
              "<table border=\"1\" class=\"dataframe\">\n",
              "  <thead>\n",
              "    <tr style=\"text-align: right;\">\n",
              "      <th></th>\n",
              "      <th>stalk-root</th>\n",
              "    </tr>\n",
              "  </thead>\n",
              "  <tbody>\n",
              "    <tr>\n",
              "      <th>3984</th>\n",
              "      <td>NaN</td>\n",
              "    </tr>\n",
              "    <tr>\n",
              "      <th>4023</th>\n",
              "      <td>NaN</td>\n",
              "    </tr>\n",
              "    <tr>\n",
              "      <th>4076</th>\n",
              "      <td>NaN</td>\n",
              "    </tr>\n",
              "    <tr>\n",
              "      <th>4100</th>\n",
              "      <td>NaN</td>\n",
              "    </tr>\n",
              "    <tr>\n",
              "      <th>4104</th>\n",
              "      <td>NaN</td>\n",
              "    </tr>\n",
              "    <tr>\n",
              "      <th>...</th>\n",
              "      <td>...</td>\n",
              "    </tr>\n",
              "    <tr>\n",
              "      <th>8119</th>\n",
              "      <td>NaN</td>\n",
              "    </tr>\n",
              "    <tr>\n",
              "      <th>8120</th>\n",
              "      <td>NaN</td>\n",
              "    </tr>\n",
              "    <tr>\n",
              "      <th>8121</th>\n",
              "      <td>NaN</td>\n",
              "    </tr>\n",
              "    <tr>\n",
              "      <th>8122</th>\n",
              "      <td>NaN</td>\n",
              "    </tr>\n",
              "    <tr>\n",
              "      <th>8123</th>\n",
              "      <td>NaN</td>\n",
              "    </tr>\n",
              "  </tbody>\n",
              "</table>\n",
              "<p>2480 rows × 1 columns</p>\n",
              "</div><br><label><b>dtype:</b> object</label>"
            ]
          },
          "metadata": {},
          "execution_count": 8
        }
      ]
    },
    {
      "cell_type": "code",
      "source": [
        "y.isna().sum() # the target has no missing data.\n"
      ],
      "metadata": {
        "colab": {
          "base_uri": "https://localhost:8080/",
          "height": 115
        },
        "id": "JYRLPIQg-Z3U",
        "outputId": "3cd066dd-b155-46eb-ccd5-3fd22b620119"
      },
      "execution_count": 9,
      "outputs": [
        {
          "output_type": "execute_result",
          "data": {
            "text/plain": [
              "poisonous    0\n",
              "dtype: int64"
            ],
            "text/html": [
              "<div>\n",
              "<style scoped>\n",
              "    .dataframe tbody tr th:only-of-type {\n",
              "        vertical-align: middle;\n",
              "    }\n",
              "\n",
              "    .dataframe tbody tr th {\n",
              "        vertical-align: top;\n",
              "    }\n",
              "\n",
              "    .dataframe thead th {\n",
              "        text-align: right;\n",
              "    }\n",
              "</style>\n",
              "<table border=\"1\" class=\"dataframe\">\n",
              "  <thead>\n",
              "    <tr style=\"text-align: right;\">\n",
              "      <th></th>\n",
              "      <th>0</th>\n",
              "    </tr>\n",
              "  </thead>\n",
              "  <tbody>\n",
              "    <tr>\n",
              "      <th>poisonous</th>\n",
              "      <td>0</td>\n",
              "    </tr>\n",
              "  </tbody>\n",
              "</table>\n",
              "</div><br><label><b>dtype:</b> int64</label>"
            ]
          },
          "metadata": {},
          "execution_count": 9
        }
      ]
    },
    {
      "cell_type": "markdown",
      "source": [
        "\n",
        "\n"
      ],
      "metadata": {
        "id": "MIlBx9dmTity"
      }
    },
    {
      "cell_type": "markdown",
      "source": [
        "## CHECK IF MISSING INFORMATION IS INFORMATIVE\n",
        "Since all features are categorical let's a use chi-square test  to see if stalk-root has significant relation to target despite missingness. If not, drop it. The chi-square test is a statistical method used to determine if there's a significant association between two categorical variables. A contingency table, also known as a cross-tabulation, is a matrix that displays the frequency distribution of the variables.\n",
        "\n"
      ],
      "metadata": {
        "id": "2l3DFHJdwPZq"
      }
    },
    {
      "cell_type": "code",
      "source": [
        "#X['stalk-root']\n",
        "X_copy=X.copy()\n",
        "\n",
        "\n",
        "# Create binary indicator for missingness in X_copy['stalk-root_missing']\n",
        "X_copy['stalk-root_missing'] = X_copy['stalk-root'].isna().astype(int)\n",
        "\n",
        "# Create contingency table\n",
        "contingency_table = pd.crosstab(X_copy['stalk-root_missing'] , y['poisonous'])\n",
        "\n",
        "# Perform chi-square test\n",
        "chi2, p_value, dof, expected = chi2_contingency(contingency_table)\n",
        "\n",
        "# Print results\n",
        "print(\"Contingency Table:\")\n",
        "print(contingency_table)\n",
        "print(f\"\\nChi-square statistic: {chi2:.4f}\")\n",
        "print(f\"P-value: {p_value:.4f}\")\n",
        "\n",
        "# Interpret results\n",
        "alpha = 0.05\n",
        "if p_value < alpha:\n",
        "    print(\"\\nThe missingness in stalk-root is significantly associated with the target (p < 0.05).\")\n",
        "    print(\"Recommendation: Keep the 'stalk-root_missing' indicator in your features.\")\n",
        "else:\n",
        "    print(\"\\nNo significant association between stalk-root missingness and target.\")\n",
        "    print(\"Recommendation: Missingness may be random, indicator might not be needed.\")"
      ],
      "metadata": {
        "colab": {
          "base_uri": "https://localhost:8080/"
        },
        "id": "kcumwbnN9qv4",
        "outputId": "f3762646-fe7c-4b7d-e2d1-727948b25df9"
      },
      "execution_count": 10,
      "outputs": [
        {
          "output_type": "stream",
          "name": "stdout",
          "text": [
            "Contingency Table:\n",
            "poisonous              e     p\n",
            "stalk-root_missing            \n",
            "0                   3488  2156\n",
            "1                    720  1760\n",
            "\n",
            "Chi-square statistic: 739.6349\n",
            "P-value: 0.0000\n",
            "\n",
            "The missingness in stalk-root is significantly associated with the target (p < 0.05).\n",
            "Recommendation: Keep the 'stalk-root_missing' indicator in your features.\n"
          ]
        }
      ]
    },
    {
      "cell_type": "markdown",
      "source": [
        "# FITTING THE MODEL TAKING INTO ACCOUNT THAT MISSING DATA IS INFORMATIVE"
      ],
      "metadata": {
        "id": "zyRnhLtWOIn6"
      }
    },
    {
      "cell_type": "markdown",
      "source": [
        "Now that we know that The missingness in stalk-root is significantly associated with the target, the option of treating the missingness as a feature itself by adding an indicator column that marks whether the column with NAs was missing, then impute  column with NAs  with something else (like a new category) but keep track of the missingness. That way, the model can use both the imputed value and the fact that it was missing, which could be informative. To prevent data leakage , we need to split the data in traning/test sets first before creating a new catergory and imputation. As a reminder data leakage occurs when information from outside the training dataset is used to create the model. This can lead to overly optimistic performance estimates. So, any preprocessing steps that use information from the test set (or the entire dataset when split) can cause leakage."
      ],
      "metadata": {
        "id": "YIahwAOu4Q68"
      }
    },
    {
      "cell_type": "code",
      "source": [
        "# Split data first to avoid leakage\n",
        "X_train, X_test, y_train, y_test = train_test_split(X, y['poisonous'], test_size=0.2)\n",
        "\n",
        "def process_data(df):\n",
        "    # Create missing value indicator and impute missing values for 'stalk-root'\n",
        "    df = df.copy()  # avoid modifying the original DataFrame\n",
        "    df['stalk-root_missing'] = df['stalk-root'].isna().astype(int)\n",
        "    df['stalk-root_imputed'] = df['stalk-root'].fillna('Missing')\n",
        "    return df.drop('stalk-root', axis=1)\n",
        "\n",
        "# Process training and test data separately\n",
        "X_train = process_data(X_train)\n",
        "X_test = process_data(X_test)\n",
        "\n",
        "# Convert all columns to categorical\n",
        "X_train = X_train.astype('category')\n",
        "X_test = X_test.astype('category')\n",
        "categorical_cols = X_train.columns.tolist()  # Both sets have the same columns\n",
        "\n"
      ],
      "metadata": {
        "id": "cAgsjFMHlF1Q"
      },
      "execution_count": 14,
      "outputs": []
    },
    {
      "cell_type": "markdown",
      "source": [
        "## HOW TO ENCODE THE DATA\n",
        "Given that in this datasets all the features are categorical , we need to find the best way to encode them.\n",
        "Finding how many unique categories are in each feature or categorical vairable to see what kind of encoding works best ( get_dummies , oneHotencoder, target encoding , etc...) is necessary here. The dataset has 20+ categorical columns, which might lead to high dimensionality if some have many categories. So, the key points are handling high cardinality, avoiding the curse of dimensionality, and integration with ML workflows."
      ],
      "metadata": {
        "id": "dvucyhENM6hM"
      }
    },
    {
      "cell_type": "code",
      "source": [
        "def unique_categories_count(df):\n",
        "    unique_counts = {}\n",
        "    for column in df.select_dtypes(include=['object', 'category']):\n",
        "        unique_counts[column] = df[column].nunique()\n",
        "    return unique_counts\n",
        "\n"
      ],
      "metadata": {
        "id": "btImVn2nnqz5"
      },
      "execution_count": 11,
      "outputs": []
    },
    {
      "cell_type": "code",
      "source": [
        "# Get unique categories count\n",
        "unique_counts = unique_categories_count(X)\n",
        "pd.DataFrame(unique_counts,index=[0]).T"
      ],
      "metadata": {
        "colab": {
          "base_uri": "https://localhost:8080/",
          "height": 739
        },
        "id": "ei7ROlipv0rw",
        "outputId": "474cad80-f65e-4e6f-c16e-679c148e406c"
      },
      "execution_count": 12,
      "outputs": [
        {
          "output_type": "execute_result",
          "data": {
            "text/plain": [
              "                           0\n",
              "cap-shape                  6\n",
              "cap-surface                4\n",
              "cap-color                 10\n",
              "bruises                    2\n",
              "odor                       9\n",
              "gill-attachment            2\n",
              "gill-spacing               2\n",
              "gill-size                  2\n",
              "gill-color                12\n",
              "stalk-shape                2\n",
              "stalk-root                 4\n",
              "stalk-surface-above-ring   4\n",
              "stalk-surface-below-ring   4\n",
              "stalk-color-above-ring     9\n",
              "stalk-color-below-ring     9\n",
              "veil-type                  1\n",
              "veil-color                 4\n",
              "ring-number                3\n",
              "ring-type                  5\n",
              "spore-print-color          9\n",
              "population                 6\n",
              "habitat                    7"
            ],
            "text/html": [
              "\n",
              "  <div id=\"df-39eaf719-9ef6-4092-adf8-472581204e53\" class=\"colab-df-container\">\n",
              "    <div>\n",
              "<style scoped>\n",
              "    .dataframe tbody tr th:only-of-type {\n",
              "        vertical-align: middle;\n",
              "    }\n",
              "\n",
              "    .dataframe tbody tr th {\n",
              "        vertical-align: top;\n",
              "    }\n",
              "\n",
              "    .dataframe thead th {\n",
              "        text-align: right;\n",
              "    }\n",
              "</style>\n",
              "<table border=\"1\" class=\"dataframe\">\n",
              "  <thead>\n",
              "    <tr style=\"text-align: right;\">\n",
              "      <th></th>\n",
              "      <th>0</th>\n",
              "    </tr>\n",
              "  </thead>\n",
              "  <tbody>\n",
              "    <tr>\n",
              "      <th>cap-shape</th>\n",
              "      <td>6</td>\n",
              "    </tr>\n",
              "    <tr>\n",
              "      <th>cap-surface</th>\n",
              "      <td>4</td>\n",
              "    </tr>\n",
              "    <tr>\n",
              "      <th>cap-color</th>\n",
              "      <td>10</td>\n",
              "    </tr>\n",
              "    <tr>\n",
              "      <th>bruises</th>\n",
              "      <td>2</td>\n",
              "    </tr>\n",
              "    <tr>\n",
              "      <th>odor</th>\n",
              "      <td>9</td>\n",
              "    </tr>\n",
              "    <tr>\n",
              "      <th>gill-attachment</th>\n",
              "      <td>2</td>\n",
              "    </tr>\n",
              "    <tr>\n",
              "      <th>gill-spacing</th>\n",
              "      <td>2</td>\n",
              "    </tr>\n",
              "    <tr>\n",
              "      <th>gill-size</th>\n",
              "      <td>2</td>\n",
              "    </tr>\n",
              "    <tr>\n",
              "      <th>gill-color</th>\n",
              "      <td>12</td>\n",
              "    </tr>\n",
              "    <tr>\n",
              "      <th>stalk-shape</th>\n",
              "      <td>2</td>\n",
              "    </tr>\n",
              "    <tr>\n",
              "      <th>stalk-root</th>\n",
              "      <td>4</td>\n",
              "    </tr>\n",
              "    <tr>\n",
              "      <th>stalk-surface-above-ring</th>\n",
              "      <td>4</td>\n",
              "    </tr>\n",
              "    <tr>\n",
              "      <th>stalk-surface-below-ring</th>\n",
              "      <td>4</td>\n",
              "    </tr>\n",
              "    <tr>\n",
              "      <th>stalk-color-above-ring</th>\n",
              "      <td>9</td>\n",
              "    </tr>\n",
              "    <tr>\n",
              "      <th>stalk-color-below-ring</th>\n",
              "      <td>9</td>\n",
              "    </tr>\n",
              "    <tr>\n",
              "      <th>veil-type</th>\n",
              "      <td>1</td>\n",
              "    </tr>\n",
              "    <tr>\n",
              "      <th>veil-color</th>\n",
              "      <td>4</td>\n",
              "    </tr>\n",
              "    <tr>\n",
              "      <th>ring-number</th>\n",
              "      <td>3</td>\n",
              "    </tr>\n",
              "    <tr>\n",
              "      <th>ring-type</th>\n",
              "      <td>5</td>\n",
              "    </tr>\n",
              "    <tr>\n",
              "      <th>spore-print-color</th>\n",
              "      <td>9</td>\n",
              "    </tr>\n",
              "    <tr>\n",
              "      <th>population</th>\n",
              "      <td>6</td>\n",
              "    </tr>\n",
              "    <tr>\n",
              "      <th>habitat</th>\n",
              "      <td>7</td>\n",
              "    </tr>\n",
              "  </tbody>\n",
              "</table>\n",
              "</div>\n",
              "    <div class=\"colab-df-buttons\">\n",
              "\n",
              "  <div class=\"colab-df-container\">\n",
              "    <button class=\"colab-df-convert\" onclick=\"convertToInteractive('df-39eaf719-9ef6-4092-adf8-472581204e53')\"\n",
              "            title=\"Convert this dataframe to an interactive table.\"\n",
              "            style=\"display:none;\">\n",
              "\n",
              "  <svg xmlns=\"http://www.w3.org/2000/svg\" height=\"24px\" viewBox=\"0 -960 960 960\">\n",
              "    <path d=\"M120-120v-720h720v720H120Zm60-500h600v-160H180v160Zm220 220h160v-160H400v160Zm0 220h160v-160H400v160ZM180-400h160v-160H180v160Zm440 0h160v-160H620v160ZM180-180h160v-160H180v160Zm440 0h160v-160H620v160Z\"/>\n",
              "  </svg>\n",
              "    </button>\n",
              "\n",
              "  <style>\n",
              "    .colab-df-container {\n",
              "      display:flex;\n",
              "      gap: 12px;\n",
              "    }\n",
              "\n",
              "    .colab-df-convert {\n",
              "      background-color: #E8F0FE;\n",
              "      border: none;\n",
              "      border-radius: 50%;\n",
              "      cursor: pointer;\n",
              "      display: none;\n",
              "      fill: #1967D2;\n",
              "      height: 32px;\n",
              "      padding: 0 0 0 0;\n",
              "      width: 32px;\n",
              "    }\n",
              "\n",
              "    .colab-df-convert:hover {\n",
              "      background-color: #E2EBFA;\n",
              "      box-shadow: 0px 1px 2px rgba(60, 64, 67, 0.3), 0px 1px 3px 1px rgba(60, 64, 67, 0.15);\n",
              "      fill: #174EA6;\n",
              "    }\n",
              "\n",
              "    .colab-df-buttons div {\n",
              "      margin-bottom: 4px;\n",
              "    }\n",
              "\n",
              "    [theme=dark] .colab-df-convert {\n",
              "      background-color: #3B4455;\n",
              "      fill: #D2E3FC;\n",
              "    }\n",
              "\n",
              "    [theme=dark] .colab-df-convert:hover {\n",
              "      background-color: #434B5C;\n",
              "      box-shadow: 0px 1px 3px 1px rgba(0, 0, 0, 0.15);\n",
              "      filter: drop-shadow(0px 1px 2px rgba(0, 0, 0, 0.3));\n",
              "      fill: #FFFFFF;\n",
              "    }\n",
              "  </style>\n",
              "\n",
              "    <script>\n",
              "      const buttonEl =\n",
              "        document.querySelector('#df-39eaf719-9ef6-4092-adf8-472581204e53 button.colab-df-convert');\n",
              "      buttonEl.style.display =\n",
              "        google.colab.kernel.accessAllowed ? 'block' : 'none';\n",
              "\n",
              "      async function convertToInteractive(key) {\n",
              "        const element = document.querySelector('#df-39eaf719-9ef6-4092-adf8-472581204e53');\n",
              "        const dataTable =\n",
              "          await google.colab.kernel.invokeFunction('convertToInteractive',\n",
              "                                                    [key], {});\n",
              "        if (!dataTable) return;\n",
              "\n",
              "        const docLinkHtml = 'Like what you see? Visit the ' +\n",
              "          '<a target=\"_blank\" href=https://colab.research.google.com/notebooks/data_table.ipynb>data table notebook</a>'\n",
              "          + ' to learn more about interactive tables.';\n",
              "        element.innerHTML = '';\n",
              "        dataTable['output_type'] = 'display_data';\n",
              "        await google.colab.output.renderOutput(dataTable, element);\n",
              "        const docLink = document.createElement('div');\n",
              "        docLink.innerHTML = docLinkHtml;\n",
              "        element.appendChild(docLink);\n",
              "      }\n",
              "    </script>\n",
              "  </div>\n",
              "\n",
              "\n",
              "<div id=\"df-904bd64d-b0b6-4448-b583-ad7af41fe7c2\">\n",
              "  <button class=\"colab-df-quickchart\" onclick=\"quickchart('df-904bd64d-b0b6-4448-b583-ad7af41fe7c2')\"\n",
              "            title=\"Suggest charts\"\n",
              "            style=\"display:none;\">\n",
              "\n",
              "<svg xmlns=\"http://www.w3.org/2000/svg\" height=\"24px\"viewBox=\"0 0 24 24\"\n",
              "     width=\"24px\">\n",
              "    <g>\n",
              "        <path d=\"M19 3H5c-1.1 0-2 .9-2 2v14c0 1.1.9 2 2 2h14c1.1 0 2-.9 2-2V5c0-1.1-.9-2-2-2zM9 17H7v-7h2v7zm4 0h-2V7h2v10zm4 0h-2v-4h2v4z\"/>\n",
              "    </g>\n",
              "</svg>\n",
              "  </button>\n",
              "\n",
              "<style>\n",
              "  .colab-df-quickchart {\n",
              "      --bg-color: #E8F0FE;\n",
              "      --fill-color: #1967D2;\n",
              "      --hover-bg-color: #E2EBFA;\n",
              "      --hover-fill-color: #174EA6;\n",
              "      --disabled-fill-color: #AAA;\n",
              "      --disabled-bg-color: #DDD;\n",
              "  }\n",
              "\n",
              "  [theme=dark] .colab-df-quickchart {\n",
              "      --bg-color: #3B4455;\n",
              "      --fill-color: #D2E3FC;\n",
              "      --hover-bg-color: #434B5C;\n",
              "      --hover-fill-color: #FFFFFF;\n",
              "      --disabled-bg-color: #3B4455;\n",
              "      --disabled-fill-color: #666;\n",
              "  }\n",
              "\n",
              "  .colab-df-quickchart {\n",
              "    background-color: var(--bg-color);\n",
              "    border: none;\n",
              "    border-radius: 50%;\n",
              "    cursor: pointer;\n",
              "    display: none;\n",
              "    fill: var(--fill-color);\n",
              "    height: 32px;\n",
              "    padding: 0;\n",
              "    width: 32px;\n",
              "  }\n",
              "\n",
              "  .colab-df-quickchart:hover {\n",
              "    background-color: var(--hover-bg-color);\n",
              "    box-shadow: 0 1px 2px rgba(60, 64, 67, 0.3), 0 1px 3px 1px rgba(60, 64, 67, 0.15);\n",
              "    fill: var(--button-hover-fill-color);\n",
              "  }\n",
              "\n",
              "  .colab-df-quickchart-complete:disabled,\n",
              "  .colab-df-quickchart-complete:disabled:hover {\n",
              "    background-color: var(--disabled-bg-color);\n",
              "    fill: var(--disabled-fill-color);\n",
              "    box-shadow: none;\n",
              "  }\n",
              "\n",
              "  .colab-df-spinner {\n",
              "    border: 2px solid var(--fill-color);\n",
              "    border-color: transparent;\n",
              "    border-bottom-color: var(--fill-color);\n",
              "    animation:\n",
              "      spin 1s steps(1) infinite;\n",
              "  }\n",
              "\n",
              "  @keyframes spin {\n",
              "    0% {\n",
              "      border-color: transparent;\n",
              "      border-bottom-color: var(--fill-color);\n",
              "      border-left-color: var(--fill-color);\n",
              "    }\n",
              "    20% {\n",
              "      border-color: transparent;\n",
              "      border-left-color: var(--fill-color);\n",
              "      border-top-color: var(--fill-color);\n",
              "    }\n",
              "    30% {\n",
              "      border-color: transparent;\n",
              "      border-left-color: var(--fill-color);\n",
              "      border-top-color: var(--fill-color);\n",
              "      border-right-color: var(--fill-color);\n",
              "    }\n",
              "    40% {\n",
              "      border-color: transparent;\n",
              "      border-right-color: var(--fill-color);\n",
              "      border-top-color: var(--fill-color);\n",
              "    }\n",
              "    60% {\n",
              "      border-color: transparent;\n",
              "      border-right-color: var(--fill-color);\n",
              "    }\n",
              "    80% {\n",
              "      border-color: transparent;\n",
              "      border-right-color: var(--fill-color);\n",
              "      border-bottom-color: var(--fill-color);\n",
              "    }\n",
              "    90% {\n",
              "      border-color: transparent;\n",
              "      border-bottom-color: var(--fill-color);\n",
              "    }\n",
              "  }\n",
              "</style>\n",
              "\n",
              "  <script>\n",
              "    async function quickchart(key) {\n",
              "      const quickchartButtonEl =\n",
              "        document.querySelector('#' + key + ' button');\n",
              "      quickchartButtonEl.disabled = true;  // To prevent multiple clicks.\n",
              "      quickchartButtonEl.classList.add('colab-df-spinner');\n",
              "      try {\n",
              "        const charts = await google.colab.kernel.invokeFunction(\n",
              "            'suggestCharts', [key], {});\n",
              "      } catch (error) {\n",
              "        console.error('Error during call to suggestCharts:', error);\n",
              "      }\n",
              "      quickchartButtonEl.classList.remove('colab-df-spinner');\n",
              "      quickchartButtonEl.classList.add('colab-df-quickchart-complete');\n",
              "    }\n",
              "    (() => {\n",
              "      let quickchartButtonEl =\n",
              "        document.querySelector('#df-904bd64d-b0b6-4448-b583-ad7af41fe7c2 button');\n",
              "      quickchartButtonEl.style.display =\n",
              "        google.colab.kernel.accessAllowed ? 'block' : 'none';\n",
              "    })();\n",
              "  </script>\n",
              "</div>\n",
              "\n",
              "    </div>\n",
              "  </div>\n"
            ],
            "application/vnd.google.colaboratory.intrinsic+json": {
              "type": "dataframe",
              "summary": "{\n  \"name\": \"pd\",\n  \"rows\": 22,\n  \"fields\": [\n    {\n      \"column\": 0,\n      \"properties\": {\n        \"dtype\": \"number\",\n        \"std\": 3,\n        \"min\": 1,\n        \"max\": 12,\n        \"num_unique_values\": 10,\n        \"samples\": [\n          5,\n          4,\n          12\n        ],\n        \"semantic_type\": \"\",\n        \"description\": \"\"\n      }\n    }\n  ]\n}"
            }
          },
          "metadata": {},
          "execution_count": 12
        }
      ]
    },
    {
      "cell_type": "markdown",
      "source": [
        "Methods to encode like get_dummies is a pandas function that converts categorical variables into dummy/indicator variables. OneHotEncoder is from scikit-learn and does similar things but is more integrated into the machine learning pipeline. For quick exploration, get_dummies is fine. For production or when using scikit-learn models, OneHotEncoder is better. Also, note that OneHotEncoder can handle sparse matrices, which is more memory-efficient for high cardinality features. Additionally, if the categorical variables have high cardinality, even OneHotEncoder might not be the best choice.  Alternatives methods like ordinal encoding if there's an order, or using techniques like feature hashing, Target Encoding, Frequency Encoding, Embeddings.\n",
        "\n",
        "Given the cardinality of each feature as displayed above, OneHotEncoder seems the best choice here. OneHotEncoder, when used in a pipeline, remembers the categories from the training data, making it more robust for production. But both methods can create a lot of features, leading to increased memory usage and model complexity.Another point is that OneHotEncoder is better for integration with scikit-learn pipelines, which helps prevent data leakage. Using OneHotEncoder within a pipeline ensures that the same categories are used for transformation on the test set.\n",
        "\n",
        "The pipeline ensures that the encoder is fitted on the training data only, preventing leakage. We need to pass the preprocessed data into the XGBoost classifier. Also, since the target is categorical, we should make sure it's label encoded in 0/1 format.  Important to fit that on the training target only. Then apply the same transformation to the test set."
      ],
      "metadata": {
        "id": "2aCGGXMb-Cbq"
      }
    },
    {
      "cell_type": "code",
      "source": [
        "# Encode target (fit only on y_train)\n",
        "le = LabelEncoder()\n",
        "y_train_encoded = le.fit_transform(y_train)\n",
        "y_test_encoded = le.transform(y_test)\n",
        "\n",
        "\n",
        "# Preprocessing: OneHotEncode categorical features\n",
        "preprocessor = ColumnTransformer(\n",
        "    transformers=[\n",
        "        (\"onehot\", OneHotEncoder(handle_unknown=\"ignore\"), categorical_cols)\n",
        "    ],\n",
        "    remainder=\"passthrough\"  # Keeps non-categorical columns unchanged\n",
        ") #, sparse_output=False\n",
        "\n",
        "preprocessor.fit(X_train)\n",
        "#categorical_cols = X_train.select_dtypes(include=['object', 'category']).columns.tolist()\n",
        "X_test_transformed = preprocessor.transform(X_test)\n",
        "\n",
        "\n"
      ],
      "metadata": {
        "id": "SbbfElm66FQS"
      },
      "execution_count": 15,
      "outputs": []
    },
    {
      "cell_type": "code",
      "source": [
        "# XGBoost model\n",
        "model = XGBClassifier(\n",
        "    n_estimators=100,\n",
        "    learning_rate=0.1,\n",
        "    eval_metric=\"logloss\",\n",
        "    use_label_encoder=False,  # Disables warning\n",
        "\n",
        ")#enable_categorical=True\n",
        "\n"
      ],
      "metadata": {
        "id": "dwxOwSLQLpW6"
      },
      "execution_count": 16,
      "outputs": []
    },
    {
      "cell_type": "markdown",
      "source": [],
      "metadata": {
        "id": "Tk2MJkNxEJsa"
      }
    },
    {
      "cell_type": "code",
      "source": [
        "# Create pipeline\n",
        "pipeline = Pipeline([\n",
        "    (\"preprocessor\", preprocessor),\n",
        "    (\"classifier\", model)\n",
        "])\n",
        "\n",
        "# Enable experimental categorical support in your classifier\n",
        "pipeline.named_steps['classifier'].set_params(enable_categorical=True)\n",
        "\n",
        "# Preprocess the evaluation set\n",
        "X_train_transformed = pipeline.named_steps['preprocessor'].transform(X_train)\n",
        "X_test_transformed = pipeline.named_steps['preprocessor'].transform(X_test)\n",
        "\n"
      ],
      "metadata": {
        "id": "1org7xLH1FeK"
      },
      "execution_count": 17,
      "outputs": []
    },
    {
      "cell_type": "code",
      "source": [
        "# Fit on training data (preprocessor is automatically fitted here)\n",
        "pipeline.fit(X_train, y_train_encoded,classifier__eval_set=[(X_train_transformed , y_train_encoded), (X_test_transformed, y_test_encoded)]\n",
        "               ) #\n",
        "# Predict on test data\n",
        "y_pred = pipeline.predict(X_test)\n",
        "y_pred_proba = pipeline.predict_proba(X_test)[:, 1]  # Probabilities for AUC\n",
        "\n"
      ],
      "metadata": {
        "colab": {
          "base_uri": "https://localhost:8080/"
        },
        "id": "uM1AX-GmKQ9Y",
        "outputId": "8a12823d-8dc2-438a-862d-c6f9842bab66"
      },
      "execution_count": 18,
      "outputs": [
        {
          "output_type": "stream",
          "name": "stdout",
          "text": [
            "[0]\tvalidation_0-logloss:0.59835\tvalidation_1-logloss:0.59843\n",
            "[1]\tvalidation_0-logloss:0.52116\tvalidation_1-logloss:0.52153\n",
            "[2]\tvalidation_0-logloss:0.45676\tvalidation_1-logloss:0.45738\n",
            "[3]\tvalidation_0-logloss:0.40231\tvalidation_1-logloss:0.40315\n"
          ]
        },
        {
          "output_type": "stream",
          "name": "stderr",
          "text": [
            "/usr/local/lib/python3.11/dist-packages/xgboost/core.py:158: UserWarning: [17:58:10] WARNING: /workspace/src/learner.cc:740: \n",
            "Parameters: { \"use_label_encoder\" } are not used.\n",
            "\n",
            "  warnings.warn(smsg, UserWarning)\n"
          ]
        },
        {
          "output_type": "stream",
          "name": "stdout",
          "text": [
            "[4]\tvalidation_0-logloss:0.35578\tvalidation_1-logloss:0.35682\n",
            "[5]\tvalidation_0-logloss:0.31570\tvalidation_1-logloss:0.31692\n",
            "[6]\tvalidation_0-logloss:0.28093\tvalidation_1-logloss:0.28232\n",
            "[7]\tvalidation_0-logloss:0.25060\tvalidation_1-logloss:0.25216\n",
            "[8]\tvalidation_0-logloss:0.22403\tvalidation_1-logloss:0.22573\n",
            "[9]\tvalidation_0-logloss:0.20065\tvalidation_1-logloss:0.20250\n",
            "[10]\tvalidation_0-logloss:0.17982\tvalidation_1-logloss:0.18154\n",
            "[11]\tvalidation_0-logloss:0.16138\tvalidation_1-logloss:0.16298\n",
            "[12]\tvalidation_0-logloss:0.14501\tvalidation_1-logloss:0.14650\n",
            "[13]\tvalidation_0-logloss:0.13046\tvalidation_1-logloss:0.13184\n",
            "[14]\tvalidation_0-logloss:0.11748\tvalidation_1-logloss:0.11877\n",
            "[15]\tvalidation_0-logloss:0.10580\tvalidation_1-logloss:0.10698\n",
            "[16]\tvalidation_0-logloss:0.09536\tvalidation_1-logloss:0.09644\n",
            "[17]\tvalidation_0-logloss:0.08601\tvalidation_1-logloss:0.08700\n",
            "[18]\tvalidation_0-logloss:0.07764\tvalidation_1-logloss:0.07855\n",
            "[19]\tvalidation_0-logloss:0.07012\tvalidation_1-logloss:0.07097\n",
            "[20]\tvalidation_0-logloss:0.06335\tvalidation_1-logloss:0.06413\n",
            "[21]\tvalidation_0-logloss:0.05726\tvalidation_1-logloss:0.05798\n",
            "[22]\tvalidation_0-logloss:0.05181\tvalidation_1-logloss:0.05249\n",
            "[23]\tvalidation_0-logloss:0.04688\tvalidation_1-logloss:0.04751\n",
            "[24]\tvalidation_0-logloss:0.04245\tvalidation_1-logloss:0.04302\n",
            "[25]\tvalidation_0-logloss:0.03845\tvalidation_1-logloss:0.03898\n",
            "[26]\tvalidation_0-logloss:0.03484\tvalidation_1-logloss:0.03534\n",
            "[27]\tvalidation_0-logloss:0.03162\tvalidation_1-logloss:0.03209\n",
            "[28]\tvalidation_0-logloss:0.02870\tvalidation_1-logloss:0.02913\n",
            "[29]\tvalidation_0-logloss:0.02606\tvalidation_1-logloss:0.02646\n",
            "[30]\tvalidation_0-logloss:0.02369\tvalidation_1-logloss:0.02406\n",
            "[31]\tvalidation_0-logloss:0.02153\tvalidation_1-logloss:0.02188\n",
            "[32]\tvalidation_0-logloss:0.01959\tvalidation_1-logloss:0.01991\n",
            "[33]\tvalidation_0-logloss:0.01787\tvalidation_1-logloss:0.01821\n",
            "[34]\tvalidation_0-logloss:0.01628\tvalidation_1-logloss:0.01659\n",
            "[35]\tvalidation_0-logloss:0.01484\tvalidation_1-logloss:0.01513\n",
            "[36]\tvalidation_0-logloss:0.01354\tvalidation_1-logloss:0.01381\n",
            "[37]\tvalidation_0-logloss:0.01238\tvalidation_1-logloss:0.01266\n",
            "[38]\tvalidation_0-logloss:0.01131\tvalidation_1-logloss:0.01157\n",
            "[39]\tvalidation_0-logloss:0.01035\tvalidation_1-logloss:0.01059\n",
            "[40]\tvalidation_0-logloss:0.00947\tvalidation_1-logloss:0.00970\n",
            "[41]\tvalidation_0-logloss:0.00869\tvalidation_1-logloss:0.00891\n",
            "[42]\tvalidation_0-logloss:0.00799\tvalidation_1-logloss:0.00821\n",
            "[43]\tvalidation_0-logloss:0.00738\tvalidation_1-logloss:0.00759\n",
            "[44]\tvalidation_0-logloss:0.00678\tvalidation_1-logloss:0.00698\n",
            "[45]\tvalidation_0-logloss:0.00625\tvalidation_1-logloss:0.00645\n",
            "[46]\tvalidation_0-logloss:0.00579\tvalidation_1-logloss:0.00598\n",
            "[47]\tvalidation_0-logloss:0.00538\tvalidation_1-logloss:0.00556\n",
            "[48]\tvalidation_0-logloss:0.00498\tvalidation_1-logloss:0.00517\n",
            "[49]\tvalidation_0-logloss:0.00464\tvalidation_1-logloss:0.00482\n",
            "[50]\tvalidation_0-logloss:0.00435\tvalidation_1-logloss:0.00455\n",
            "[51]\tvalidation_0-logloss:0.00406\tvalidation_1-logloss:0.00425\n",
            "[52]\tvalidation_0-logloss:0.00380\tvalidation_1-logloss:0.00399\n",
            "[53]\tvalidation_0-logloss:0.00359\tvalidation_1-logloss:0.00378\n",
            "[54]\tvalidation_0-logloss:0.00336\tvalidation_1-logloss:0.00355\n",
            "[55]\tvalidation_0-logloss:0.00315\tvalidation_1-logloss:0.00334\n",
            "[56]\tvalidation_0-logloss:0.00299\tvalidation_1-logloss:0.00318\n",
            "[57]\tvalidation_0-logloss:0.00284\tvalidation_1-logloss:0.00303\n",
            "[58]\tvalidation_0-logloss:0.00267\tvalidation_1-logloss:0.00287\n",
            "[59]\tvalidation_0-logloss:0.00254\tvalidation_1-logloss:0.00274\n",
            "[60]\tvalidation_0-logloss:0.00240\tvalidation_1-logloss:0.00259\n",
            "[61]\tvalidation_0-logloss:0.00229\tvalidation_1-logloss:0.00248\n",
            "[62]\tvalidation_0-logloss:0.00220\tvalidation_1-logloss:0.00238\n",
            "[63]\tvalidation_0-logloss:0.00210\tvalidation_1-logloss:0.00228\n",
            "[64]\tvalidation_0-logloss:0.00201\tvalidation_1-logloss:0.00218\n",
            "[65]\tvalidation_0-logloss:0.00193\tvalidation_1-logloss:0.00209\n",
            "[66]\tvalidation_0-logloss:0.00185\tvalidation_1-logloss:0.00201\n",
            "[67]\tvalidation_0-logloss:0.00179\tvalidation_1-logloss:0.00196\n",
            "[68]\tvalidation_0-logloss:0.00172\tvalidation_1-logloss:0.00188\n",
            "[69]\tvalidation_0-logloss:0.00167\tvalidation_1-logloss:0.00183\n",
            "[70]\tvalidation_0-logloss:0.00161\tvalidation_1-logloss:0.00176\n",
            "[71]\tvalidation_0-logloss:0.00155\tvalidation_1-logloss:0.00171\n",
            "[72]\tvalidation_0-logloss:0.00150\tvalidation_1-logloss:0.00166\n",
            "[73]\tvalidation_0-logloss:0.00145\tvalidation_1-logloss:0.00161\n",
            "[74]\tvalidation_0-logloss:0.00141\tvalidation_1-logloss:0.00158\n",
            "[75]\tvalidation_0-logloss:0.00137\tvalidation_1-logloss:0.00153\n",
            "[76]\tvalidation_0-logloss:0.00133\tvalidation_1-logloss:0.00149\n",
            "[77]\tvalidation_0-logloss:0.00129\tvalidation_1-logloss:0.00145\n",
            "[78]\tvalidation_0-logloss:0.00126\tvalidation_1-logloss:0.00141\n",
            "[79]\tvalidation_0-logloss:0.00123\tvalidation_1-logloss:0.00138\n",
            "[80]\tvalidation_0-logloss:0.00121\tvalidation_1-logloss:0.00136\n",
            "[81]\tvalidation_0-logloss:0.00119\tvalidation_1-logloss:0.00134\n",
            "[82]\tvalidation_0-logloss:0.00115\tvalidation_1-logloss:0.00130\n",
            "[83]\tvalidation_0-logloss:0.00113\tvalidation_1-logloss:0.00128\n",
            "[84]\tvalidation_0-logloss:0.00111\tvalidation_1-logloss:0.00126\n",
            "[85]\tvalidation_0-logloss:0.00108\tvalidation_1-logloss:0.00122\n",
            "[86]\tvalidation_0-logloss:0.00106\tvalidation_1-logloss:0.00120\n",
            "[87]\tvalidation_0-logloss:0.00105\tvalidation_1-logloss:0.00119\n",
            "[88]\tvalidation_0-logloss:0.00102\tvalidation_1-logloss:0.00116\n",
            "[89]\tvalidation_0-logloss:0.00100\tvalidation_1-logloss:0.00114\n",
            "[90]\tvalidation_0-logloss:0.00099\tvalidation_1-logloss:0.00113\n",
            "[91]\tvalidation_0-logloss:0.00097\tvalidation_1-logloss:0.00110\n",
            "[92]\tvalidation_0-logloss:0.00096\tvalidation_1-logloss:0.00109\n",
            "[93]\tvalidation_0-logloss:0.00094\tvalidation_1-logloss:0.00107\n",
            "[94]\tvalidation_0-logloss:0.00093\tvalidation_1-logloss:0.00106\n",
            "[95]\tvalidation_0-logloss:0.00091\tvalidation_1-logloss:0.00104\n",
            "[96]\tvalidation_0-logloss:0.00090\tvalidation_1-logloss:0.00102\n",
            "[97]\tvalidation_0-logloss:0.00089\tvalidation_1-logloss:0.00102\n",
            "[98]\tvalidation_0-logloss:0.00088\tvalidation_1-logloss:0.00100\n",
            "[99]\tvalidation_0-logloss:0.00087\tvalidation_1-logloss:0.00100\n"
          ]
        }
      ]
    },
    {
      "cell_type": "code",
      "source": [
        "# Access the XGBClassifier within the pipeline\n",
        "eval_result = pipeline.named_steps['classifier'].evals_result()\n",
        "training_rounds = range(len(eval_result['validation_0']['logloss']))"
      ],
      "metadata": {
        "id": "-NcJIOd0Cntc"
      },
      "execution_count": 19,
      "outputs": []
    },
    {
      "cell_type": "markdown",
      "source": [
        "The model appears to generalize very well given how the metrics on the training set follow very closely on the test set"
      ],
      "metadata": {
        "id": "TfUHfrg2MTa7"
      }
    },
    {
      "cell_type": "code",
      "source": [
        "plt.scatter(x=training_rounds,y=eval_result['validation_0']['logloss'],label='Training Error')\n",
        "plt.scatter(x=training_rounds,y=eval_result['validation_1']['logloss'],label='Validation Error')\n",
        "plt.grid(True)\n",
        "plt.xlabel('Iterations')\n",
        "plt.ylabel('LogLoss')\n",
        "plt.title('Training Vs Validation Error')\n",
        "plt.legend()\n",
        "plt.show()"
      ],
      "metadata": {
        "colab": {
          "base_uri": "https://localhost:8080/",
          "height": 472
        },
        "id": "cLyHChCjTJej",
        "outputId": "7e97592d-cdf2-42d9-e26a-b55b8db4ef4c"
      },
      "execution_count": 20,
      "outputs": [
        {
          "output_type": "display_data",
          "data": {
            "text/plain": [
              "<Figure size 640x480 with 1 Axes>"
            ],
            "image/png": "[encoded data removed]"
          },
          "metadata": {}
        }
      ]
    },
    {
      "cell_type": "markdown",
      "source": [
        "Lets see which features are the most important or have the highest predictive power."
      ],
      "metadata": {
        "id": "osddjv23MwnG"
      }
    },
    {
      "cell_type": "code",
      "source": [
        "# Assume 'feature_names' is a list of your actual feature names\n",
        "clf = pipeline.named_steps['classifier']\n",
        "booster = clf.get_booster()\n",
        "\n",
        "# Get feature names from the preprocessor\n",
        "onehot_features = pipeline.named_steps['preprocessor'].named_transformers_['onehot'].get_feature_names_out(categorical_cols)\n",
        "# Combine one-hot encoded features with the remaining features\n",
        "booster.feature_names = list(onehot_features) + [col for col in X_train.columns if col not in categorical_cols]\n",
        "plt.figure(figsize=(20, 15))\n",
        "plot_importance(booster)\n",
        "plt.show()"
      ],
      "metadata": {
        "colab": {
          "base_uri": "https://localhost:8080/",
          "height": 489
        },
        "id": "yCyYkZSTRuUX",
        "outputId": "a6f694d3-80ce-410c-b660-b81f38071bf3"
      },
      "execution_count": 21,
      "outputs": [
        {
          "output_type": "display_data",
          "data": {
            "text/plain": [
              "<Figure size 2000x1500 with 0 Axes>"
            ]
          },
          "metadata": {}
        },
        {
          "output_type": "display_data",
          "data": {
            "text/plain": [
              "<Figure size 640x480 with 1 Axes>"
            ],
            "image/png": "[encoded data removed]"
          },
          "metadata": {}
        }
      ]
    },
    {
      "cell_type": "markdown",
      "source": [
        "The model is 100% accurate on the test set as shown below ."
      ],
      "metadata": {
        "id": "vB4HJLNPNFc1"
      }
    },
    {
      "cell_type": "code",
      "source": [
        "# Evaluate\n",
        "print(f\"Accuracy: {accuracy_score(y_test_encoded, y_pred):.4f}\")\n",
        "print(f\"ROC AUC: {roc_auc_score(y_test_encoded, y_pred_proba):.4f}\")\n",
        "print(\"Confusion Matrix:\\n\", confusion_matrix(y_test_encoded, y_pred))"
      ],
      "metadata": {
        "colab": {
          "base_uri": "https://localhost:8080/"
        },
        "id": "u9ZMaRNQ1Gvd",
        "outputId": "0d83d3f9-f9d5-4625-cd25-40bcc69dc112"
      },
      "execution_count": 22,
      "outputs": [
        {
          "output_type": "stream",
          "name": "stdout",
          "text": [
            "Accuracy: 1.0000\n",
            "ROC AUC: 1.0000\n",
            "Confusion Matrix:\n",
            " [[847   0]\n",
            " [  0 778]]\n"
          ]
        }
      ]
    },
    {
      "cell_type": "markdown",
      "source": [
        "# MODEL-BASED IMPUTATION"
      ],
      "metadata": {
        "id": "xiCwYAHK6MJv"
      }
    },
    {
      "cell_type": "markdown",
      "source": [
        "Model-based imputation, like using a Random Forest to predict missing values, definitely needs to be done within the training set. Training the imputation model on the entire dataset would leak information into the training process. So, the model should be trained only on the training data and then predict on both training and test sets."
      ],
      "metadata": {
        "id": "YaqUeBYM6GMq"
      }
    },
    {
      "cell_type": "code",
      "source": [
        "# Split data first (using a fixed random_state for reproducibility)\n",
        "X_train, X_test, y_train, y_test = train_test_split(X, y['poisonous'], test_size=0.2, random_state=42)\n",
        "\n",
        "# Only consider rows where 'stalk-root' is not missing for training the imputation model\n",
        "train_non_missing = X_train[X_train['stalk-root'].notna()]\n",
        "\n",
        "# Define features (all categorical) except the target for imputation\n",
        "features = [col for col in X_train.columns if col != 'stalk-root']\n",
        "\n",
        "# Initialize and fit OneHotEncoder on the non-missing training rows\n",
        "encoder = OneHotEncoder(handle_unknown='ignore',  sparse_output=False)\n",
        "encoder.fit(train_non_missing[features])\n",
        "\n",
        "# Encode the features for the non-missing rows\n",
        "X_train_encoded = encoder.transform(train_non_missing[features])\n",
        "\n",
        "# Train the imputation model using the encoded features\n",
        "imputer_model = RandomForestClassifier(random_state=42)\n",
        "imputer_model.fit(X_train_encoded, train_non_missing['stalk-root'])\n",
        "\n",
        "# Function to impute missing values in a dataset\n",
        "def impute_stalk_root(data):\n",
        "    missing_mask = data['stalk-root'].isna()\n",
        "    if missing_mask.any():\n",
        "        # Encode the features for rows with missing 'stalk-root'\n",
        "        X_missing_encoded = encoder.transform(data.loc[missing_mask, features])\n",
        "        # Predict the missing values\n",
        "        imputed_values = imputer_model.predict(X_missing_encoded)\n",
        "        data.loc[missing_mask, 'stalk-root'] = imputed_values\n",
        "    # Add an indicator column for missingness\n",
        "    data['stalk-root_missing'] = missing_mask.astype(int)\n",
        "    return data\n",
        "\n",
        "# Impute missing values in both training and test sets\n",
        "X_train = impute_stalk_root(X_train)\n",
        "X_test = impute_stalk_root(X_test)\n"
      ],
      "metadata": {
        "id": "z5EuBYkUCiiF"
      },
      "execution_count": 24,
      "outputs": []
    },
    {
      "cell_type": "code",
      "source": [
        "print(X_train.shape)\n",
        "print(X_test.shape)\n",
        "print(X.shape)"
      ],
      "metadata": {
        "colab": {
          "base_uri": "https://localhost:8080/"
        },
        "id": "-1z868PcHZew",
        "outputId": "3c3dc557-8d53-4f3e-b75d-656091788e8e"
      },
      "execution_count": 34,
      "outputs": [
        {
          "output_type": "stream",
          "name": "stdout",
          "text": [
            "(6499, 23)\n",
            "(1625, 23)\n",
            "(8124, 22)\n"
          ]
        }
      ]
    },
    {
      "cell_type": "code",
      "source": [
        "# Convert all columns to categorical\n",
        "X_train = X_train.astype('category')\n",
        "X_test = X_test.astype('category')\n",
        "categorical_cols = X_train.columns.tolist()  # Both sets have the same columns\n",
        "\n",
        "\n",
        "# Encode target (fit only on y_train)\n",
        "le = LabelEncoder()\n",
        "y_train_encoded = le.fit_transform(y_train)\n",
        "y_test_encoded = le.transform(y_test)\n",
        "\n",
        "\n",
        "# Preprocessing: OneHotEncode categorical features\n",
        "preprocessor = ColumnTransformer(\n",
        "    transformers=[\n",
        "        (\"onehot\", OneHotEncoder(handle_unknown=\"ignore\"), categorical_cols)\n",
        "    ],\n",
        "    remainder=\"passthrough\"  # Keeps non-categorical columns unchanged\n",
        ") #, sparse_output=False\n",
        "\n",
        "preprocessor.fit(X_train)\n",
        "#categorical_cols = X_train.select_dtypes(include=['object', 'category']).columns.tolist()\n",
        "X_test_transformed = preprocessor.transform(X_test)\n",
        "\n",
        "\n"
      ],
      "metadata": {
        "id": "vqFfsj6BNDCV"
      },
      "execution_count": 25,
      "outputs": []
    },
    {
      "cell_type": "code",
      "source": [
        "# XGBoost model\n",
        "model = XGBClassifier(\n",
        "    n_estimators=100,\n",
        "    learning_rate=0.1,\n",
        "    eval_metric=\"logloss\",\n",
        "    use_label_encoder=False,  # Disables warning\n",
        "\n",
        ")#enable_categorical=True\n",
        "\n"
      ],
      "metadata": {
        "id": "iLP-Kq49ONNY"
      },
      "execution_count": 26,
      "outputs": []
    },
    {
      "cell_type": "code",
      "source": [
        "# Create pipeline\n",
        "pipeline = Pipeline([\n",
        "    (\"preprocessor\", preprocessor),\n",
        "    (\"classifier\", model)\n",
        "])\n",
        "\n",
        "# Enable experimental categorical support in your classifier\n",
        "pipeline.named_steps['classifier'].set_params(enable_categorical=True)\n",
        "\n",
        "# Preprocess the evaluation set\n",
        "X_train_transformed = pipeline.named_steps['preprocessor'].transform(X_train)\n",
        "X_test_transformed = pipeline.named_steps['preprocessor'].transform(X_test)\n",
        "\n"
      ],
      "metadata": {
        "id": "m7PbIy0EUCU8"
      },
      "execution_count": 27,
      "outputs": []
    },
    {
      "cell_type": "code",
      "source": [
        "# Fit on training data (preprocessor is automatically fitted here)\n",
        "pipeline.fit(X_train, y_train_encoded,classifier__eval_set=[(X_train_transformed , y_train_encoded), (X_test_transformed, y_test_encoded)]\n",
        "               ) #\n",
        "# Predict on test data\n",
        "y_pred = pipeline.predict(X_test)\n",
        "y_pred_proba = pipeline.predict_proba(X_test)[:, 1]  # Probabilities for AUC\n",
        "\n"
      ],
      "metadata": {
        "colab": {
          "base_uri": "https://localhost:8080/"
        },
        "id": "_vAtAg6yOD5H",
        "outputId": "330f78a2-e3a6-4fad-bbf2-c3bde82f5ab5"
      },
      "execution_count": 28,
      "outputs": [
        {
          "output_type": "stream",
          "name": "stdout",
          "text": [
            "[0]\tvalidation_0-logloss:0.59842\tvalidation_1-logloss:0.59833\n",
            "[1]\tvalidation_0-logloss:0.52133\tvalidation_1-logloss:0.52120\n",
            "[2]\tvalidation_0-logloss:0.45702\tvalidation_1-logloss:0.45684\n",
            "[3]\tvalidation_0-logloss:0.40265\tvalidation_1-logloss:0.40242\n"
          ]
        },
        {
          "output_type": "stream",
          "name": "stderr",
          "text": [
            "/usr/local/lib/python3.11/dist-packages/xgboost/core.py:158: UserWarning: [18:10:01] WARNING: /workspace/src/learner.cc:740: \n",
            "Parameters: { \"use_label_encoder\" } are not used.\n",
            "\n",
            "  warnings.warn(smsg, UserWarning)\n"
          ]
        },
        {
          "output_type": "stream",
          "name": "stdout",
          "text": [
            "[4]\tvalidation_0-logloss:0.35619\tvalidation_1-logloss:0.35591\n",
            "[5]\tvalidation_0-logloss:0.31580\tvalidation_1-logloss:0.31559\n",
            "[6]\tvalidation_0-logloss:0.28076\tvalidation_1-logloss:0.28061\n",
            "[7]\tvalidation_0-logloss:0.25020\tvalidation_1-logloss:0.25008\n",
            "[8]\tvalidation_0-logloss:0.22340\tvalidation_1-logloss:0.22333\n",
            "[9]\tvalidation_0-logloss:0.19983\tvalidation_1-logloss:0.19979\n",
            "[10]\tvalidation_0-logloss:0.17901\tvalidation_1-logloss:0.17899\n",
            "[11]\tvalidation_0-logloss:0.16058\tvalidation_1-logloss:0.16058\n",
            "[12]\tvalidation_0-logloss:0.14421\tvalidation_1-logloss:0.14424\n",
            "[13]\tvalidation_0-logloss:0.12965\tvalidation_1-logloss:0.12969\n",
            "[14]\tvalidation_0-logloss:0.11668\tvalidation_1-logloss:0.11672\n",
            "[15]\tvalidation_0-logloss:0.10509\tvalidation_1-logloss:0.10513\n",
            "[16]\tvalidation_0-logloss:0.09473\tvalidation_1-logloss:0.09478\n",
            "[17]\tvalidation_0-logloss:0.08545\tvalidation_1-logloss:0.08550\n",
            "[18]\tvalidation_0-logloss:0.07714\tvalidation_1-logloss:0.07719\n",
            "[19]\tvalidation_0-logloss:0.06968\tvalidation_1-logloss:0.06973\n",
            "[20]\tvalidation_0-logloss:0.06297\tvalidation_1-logloss:0.06302\n",
            "[21]\tvalidation_0-logloss:0.05695\tvalidation_1-logloss:0.05700\n",
            "[22]\tvalidation_0-logloss:0.05153\tvalidation_1-logloss:0.05158\n",
            "[23]\tvalidation_0-logloss:0.04664\tvalidation_1-logloss:0.04670\n",
            "[24]\tvalidation_0-logloss:0.04224\tvalidation_1-logloss:0.04231\n",
            "[25]\tvalidation_0-logloss:0.03827\tvalidation_1-logloss:0.03834\n",
            "[26]\tvalidation_0-logloss:0.03469\tvalidation_1-logloss:0.03477\n",
            "[27]\tvalidation_0-logloss:0.03148\tvalidation_1-logloss:0.03156\n",
            "[28]\tvalidation_0-logloss:0.02858\tvalidation_1-logloss:0.02866\n",
            "[29]\tvalidation_0-logloss:0.02596\tvalidation_1-logloss:0.02604\n",
            "[30]\tvalidation_0-logloss:0.02358\tvalidation_1-logloss:0.02366\n",
            "[31]\tvalidation_0-logloss:0.02146\tvalidation_1-logloss:0.02154\n",
            "[32]\tvalidation_0-logloss:0.01951\tvalidation_1-logloss:0.01960\n",
            "[33]\tvalidation_0-logloss:0.01778\tvalidation_1-logloss:0.01786\n",
            "[34]\tvalidation_0-logloss:0.01619\tvalidation_1-logloss:0.01627\n",
            "[35]\tvalidation_0-logloss:0.01475\tvalidation_1-logloss:0.01483\n",
            "[36]\tvalidation_0-logloss:0.01347\tvalidation_1-logloss:0.01356\n",
            "[37]\tvalidation_0-logloss:0.01229\tvalidation_1-logloss:0.01238\n",
            "[38]\tvalidation_0-logloss:0.01123\tvalidation_1-logloss:0.01131\n",
            "[39]\tvalidation_0-logloss:0.01028\tvalidation_1-logloss:0.01036\n",
            "[40]\tvalidation_0-logloss:0.00941\tvalidation_1-logloss:0.00948\n",
            "[41]\tvalidation_0-logloss:0.00861\tvalidation_1-logloss:0.00869\n",
            "[42]\tvalidation_0-logloss:0.00793\tvalidation_1-logloss:0.00801\n",
            "[43]\tvalidation_0-logloss:0.00730\tvalidation_1-logloss:0.00740\n",
            "[44]\tvalidation_0-logloss:0.00678\tvalidation_1-logloss:0.00688\n",
            "[45]\tvalidation_0-logloss:0.00629\tvalidation_1-logloss:0.00640\n",
            "[46]\tvalidation_0-logloss:0.00579\tvalidation_1-logloss:0.00589\n",
            "[47]\tvalidation_0-logloss:0.00537\tvalidation_1-logloss:0.00546\n",
            "[48]\tvalidation_0-logloss:0.00500\tvalidation_1-logloss:0.00508\n",
            "[49]\tvalidation_0-logloss:0.00466\tvalidation_1-logloss:0.00475\n",
            "[50]\tvalidation_0-logloss:0.00432\tvalidation_1-logloss:0.00441\n",
            "[51]\tvalidation_0-logloss:0.00402\tvalidation_1-logloss:0.00411\n",
            "[52]\tvalidation_0-logloss:0.00376\tvalidation_1-logloss:0.00384\n",
            "[53]\tvalidation_0-logloss:0.00351\tvalidation_1-logloss:0.00359\n",
            "[54]\tvalidation_0-logloss:0.00328\tvalidation_1-logloss:0.00335\n",
            "[55]\tvalidation_0-logloss:0.00307\tvalidation_1-logloss:0.00314\n",
            "[56]\tvalidation_0-logloss:0.00291\tvalidation_1-logloss:0.00298\n",
            "[57]\tvalidation_0-logloss:0.00276\tvalidation_1-logloss:0.00283\n",
            "[58]\tvalidation_0-logloss:0.00260\tvalidation_1-logloss:0.00267\n",
            "[59]\tvalidation_0-logloss:0.00247\tvalidation_1-logloss:0.00254\n",
            "[60]\tvalidation_0-logloss:0.00235\tvalidation_1-logloss:0.00242\n",
            "[61]\tvalidation_0-logloss:0.00225\tvalidation_1-logloss:0.00232\n",
            "[62]\tvalidation_0-logloss:0.00214\tvalidation_1-logloss:0.00221\n",
            "[63]\tvalidation_0-logloss:0.00205\tvalidation_1-logloss:0.00212\n",
            "[64]\tvalidation_0-logloss:0.00197\tvalidation_1-logloss:0.00204\n",
            "[65]\tvalidation_0-logloss:0.00189\tvalidation_1-logloss:0.00195\n",
            "[66]\tvalidation_0-logloss:0.00183\tvalidation_1-logloss:0.00190\n",
            "[67]\tvalidation_0-logloss:0.00176\tvalidation_1-logloss:0.00182\n",
            "[68]\tvalidation_0-logloss:0.00170\tvalidation_1-logloss:0.00176\n",
            "[69]\tvalidation_0-logloss:0.00164\tvalidation_1-logloss:0.00170\n",
            "[70]\tvalidation_0-logloss:0.00159\tvalidation_1-logloss:0.00165\n",
            "[71]\tvalidation_0-logloss:0.00154\tvalidation_1-logloss:0.00160\n",
            "[72]\tvalidation_0-logloss:0.00149\tvalidation_1-logloss:0.00155\n",
            "[73]\tvalidation_0-logloss:0.00145\tvalidation_1-logloss:0.00151\n",
            "[74]\tvalidation_0-logloss:0.00141\tvalidation_1-logloss:0.00147\n",
            "[75]\tvalidation_0-logloss:0.00138\tvalidation_1-logloss:0.00144\n",
            "[76]\tvalidation_0-logloss:0.00134\tvalidation_1-logloss:0.00140\n",
            "[77]\tvalidation_0-logloss:0.00131\tvalidation_1-logloss:0.00137\n",
            "[78]\tvalidation_0-logloss:0.00128\tvalidation_1-logloss:0.00134\n",
            "[79]\tvalidation_0-logloss:0.00125\tvalidation_1-logloss:0.00131\n",
            "[80]\tvalidation_0-logloss:0.00122\tvalidation_1-logloss:0.00128\n",
            "[81]\tvalidation_0-logloss:0.00119\tvalidation_1-logloss:0.00125\n",
            "[82]\tvalidation_0-logloss:0.00117\tvalidation_1-logloss:0.00123\n",
            "[83]\tvalidation_0-logloss:0.00115\tvalidation_1-logloss:0.00121\n",
            "[84]\tvalidation_0-logloss:0.00113\tvalidation_1-logloss:0.00118\n",
            "[85]\tvalidation_0-logloss:0.00111\tvalidation_1-logloss:0.00116\n",
            "[86]\tvalidation_0-logloss:0.00109\tvalidation_1-logloss:0.00114\n",
            "[87]\tvalidation_0-logloss:0.00107\tvalidation_1-logloss:0.00112\n",
            "[88]\tvalidation_0-logloss:0.00105\tvalidation_1-logloss:0.00110\n",
            "[89]\tvalidation_0-logloss:0.00104\tvalidation_1-logloss:0.00109\n",
            "[90]\tvalidation_0-logloss:0.00103\tvalidation_1-logloss:0.00108\n",
            "[91]\tvalidation_0-logloss:0.00101\tvalidation_1-logloss:0.00106\n",
            "[92]\tvalidation_0-logloss:0.00099\tvalidation_1-logloss:0.00104\n",
            "[93]\tvalidation_0-logloss:0.00098\tvalidation_1-logloss:0.00103\n",
            "[94]\tvalidation_0-logloss:0.00097\tvalidation_1-logloss:0.00102\n",
            "[95]\tvalidation_0-logloss:0.00096\tvalidation_1-logloss:0.00101\n",
            "[96]\tvalidation_0-logloss:0.00096\tvalidation_1-logloss:0.00101\n",
            "[97]\tvalidation_0-logloss:0.00095\tvalidation_1-logloss:0.00100\n",
            "[98]\tvalidation_0-logloss:0.00094\tvalidation_1-logloss:0.00099\n",
            "[99]\tvalidation_0-logloss:0.00093\tvalidation_1-logloss:0.00098\n"
          ]
        }
      ]
    },
    {
      "cell_type": "code",
      "source": [
        "# Access the XGBClassifier within the pipeline\n",
        "eval_result = pipeline.named_steps['classifier'].evals_result()\n",
        "training_rounds = range(len(eval_result['validation_0']['logloss']))"
      ],
      "metadata": {
        "id": "jXmr3vMsT_rw"
      },
      "execution_count": 29,
      "outputs": []
    },
    {
      "cell_type": "code",
      "source": [
        "plt.scatter(x=training_rounds,y=eval_result['validation_0']['logloss'],label='Training Error')\n",
        "plt.scatter(x=training_rounds,y=eval_result['validation_1']['logloss'],label='Validation Error')\n",
        "plt.grid(True)\n",
        "plt.xlabel('Iterations')\n",
        "plt.ylabel('LogLoss')\n",
        "plt.title('Training Vs Validation Error')\n",
        "plt.legend()\n",
        "plt.show()"
      ],
      "metadata": {
        "colab": {
          "base_uri": "https://localhost:8080/",
          "height": 472
        },
        "id": "wciKOuLLS3Ce",
        "outputId": "6ea54d9a-a572-45a1-dace-73637fb608b2"
      },
      "execution_count": 30,
      "outputs": [
        {
          "output_type": "display_data",
          "data": {
            "text/plain": [
              "<Figure size 640x480 with 1 Axes>"
            ],
            "image/png": "[encoded data removed]"
          },
          "metadata": {}
        }
      ]
    },
    {
      "cell_type": "code",
      "source": [
        "# Assume 'feature_names' is a list of your actual feature names\n",
        "clf = pipeline.named_steps['classifier']\n",
        "booster = clf.get_booster()\n",
        "\n",
        "# Get feature names from the preprocessor\n",
        "onehot_features = pipeline.named_steps['preprocessor'].named_transformers_['onehot'].get_feature_names_out(categorical_cols)\n",
        "# Combine one-hot encoded features with the remaining features\n",
        "booster.feature_names = list(onehot_features) + [col for col in X_train.columns if col not in categorical_cols]\n",
        "plt.figure(figsize=(20, 15))\n",
        "plot_importance(booster)\n",
        "plt.show()"
      ],
      "metadata": {
        "colab": {
          "base_uri": "https://localhost:8080/",
          "height": 489
        },
        "id": "SJkjJ64PTA2N",
        "outputId": "3008914c-82b5-4a3e-d772-34812ab76761"
      },
      "execution_count": 31,
      "outputs": [
        {
          "output_type": "display_data",
          "data": {
            "text/plain": [
              "<Figure size 2000x1500 with 0 Axes>"
            ]
          },
          "metadata": {}
        },
        {
          "output_type": "display_data",
          "data": {
            "text/plain": [
              "<Figure size 640x480 with 1 Axes>"
            ],
            "image/png": "[encoded data removed]"
          },
          "metadata": {}
        }
      ]
    },
    {
      "cell_type": "code",
      "source": [
        "# Evaluate\n",
        "print(f\"Accuracy: {accuracy_score(y_test_encoded, y_pred):.4f}\")\n",
        "print(f\"ROC AUC: {roc_auc_score(y_test_encoded, y_pred_proba):.4f}\")\n",
        "print(\"Confusion Matrix:\\n\", confusion_matrix(y_test_encoded, y_pred))"
      ],
      "metadata": {
        "colab": {
          "base_uri": "https://localhost:8080/"
        },
        "id": "jOyuuOCGQWLU",
        "outputId": "b4cc53f2-1f69-4253-a857-04ab52ed54c2"
      },
      "execution_count": 32,
      "outputs": [
        {
          "output_type": "stream",
          "name": "stdout",
          "text": [
            "Accuracy: 1.0000\n",
            "ROC AUC: 1.0000\n",
            "Confusion Matrix:\n",
            " [[843   0]\n",
            " [  0 782]]\n"
          ]
        }
      ]
    },
    {
      "cell_type": "markdown",
      "source": [
        "# DELETING ALL ROWS WITH MISSING VALUES"
      ],
      "metadata": {
        "id": "NRHRUXgYN0gx"
      }
    },
    {
      "cell_type": "code",
      "source": [
        "data=X.copy()\n",
        "data['y']=y['poisonous']\n",
        "data=data[data['stalk-root'].notna()]\n"
      ],
      "metadata": {
        "id": "VLfvzLa1S8O3"
      },
      "execution_count": 44,
      "outputs": []
    },
    {
      "cell_type": "code",
      "source": [
        "y1=data['y']\n",
        "data.drop('y',axis=1,inplace=True)"
      ],
      "metadata": {
        "id": "CAxE9mYmEMTr"
      },
      "execution_count": 45,
      "outputs": []
    },
    {
      "cell_type": "code",
      "source": [
        "# Split data first to avoid leakage\n",
        "X_train, X_test, y_train, y_test = train_test_split(data, y1, test_size=0.2)\n",
        "\n",
        "\n",
        "# Convert all columns to categorical\n",
        "X_train = X_train.astype('category')\n",
        "X_test = X_test.astype('category')\n",
        "categorical_cols = X_train.columns.tolist()  # Both sets have the same columns\n"
      ],
      "metadata": {
        "id": "OsGdyPd3D0Th"
      },
      "execution_count": 53,
      "outputs": []
    },
    {
      "cell_type": "code",
      "source": [
        "# Encode target (fit only on y_train)\n",
        "le = LabelEncoder()\n",
        "y_train_encoded = le.fit_transform(y_train)\n",
        "y_test_encoded = le.transform(y_test)\n",
        "\n",
        "\n",
        "# Preprocessing: OneHotEncode categorical features\n",
        "preprocessor = ColumnTransformer(\n",
        "    transformers=[\n",
        "        (\"onehot\", OneHotEncoder(handle_unknown=\"ignore\"), categorical_cols)\n",
        "    ],\n",
        "    remainder=\"passthrough\"  # Keeps non-categorical columns unchanged\n",
        ") #, sparse_output=False\n",
        "\n",
        "preprocessor.fit(X_train)\n",
        "#categorical_cols = X_train.select_dtypes(include=['object', 'category']).columns.tolist()\n",
        "X_test_transformed = preprocessor.transform(X_test)\n",
        "\n",
        "\n"
      ],
      "metadata": {
        "id": "tWNfP2o0Qpkr"
      },
      "execution_count": 54,
      "outputs": []
    },
    {
      "cell_type": "code",
      "source": [
        "# XGBoost model\n",
        "model = XGBClassifier(\n",
        "    n_estimators=100,\n",
        "    learning_rate=0.1,\n",
        "    eval_metric=\"logloss\",\n",
        "    use_label_encoder=False,  # Disables warning\n",
        "\n",
        ")"
      ],
      "metadata": {
        "id": "87KzaAx8IVs4"
      },
      "execution_count": 55,
      "outputs": []
    },
    {
      "cell_type": "code",
      "source": [
        "# Create pipeline\n",
        "pipeline = Pipeline([\n",
        "    (\"preprocessor\", preprocessor),\n",
        "    (\"classifier\", model)\n",
        "])\n",
        "\n",
        "# Enable experimental categorical support in your classifier\n",
        "pipeline.named_steps['classifier'].set_params(enable_categorical=True)\n",
        "\n",
        "# Preprocess the evaluation set\n",
        "X_train_transformed = pipeline.named_steps['preprocessor'].transform(X_train)\n",
        "X_test_transformed = pipeline.named_steps['preprocessor'].transform(X_test)\n",
        "\n"
      ],
      "metadata": {
        "id": "nrMNJ2VqIf5N"
      },
      "execution_count": 56,
      "outputs": []
    },
    {
      "cell_type": "code",
      "source": [
        "# Fit on training data (preprocessor is automatically fitted here)\n",
        "pipeline.fit(X_train, y_train_encoded,classifier__eval_set=[(X_train_transformed , y_train_encoded), (X_test_transformed, y_test_encoded)]\n",
        "               ) #\n",
        "# Predict on test data\n",
        "y_pred = pipeline.predict(X_test)\n",
        "y_pred_proba = pipeline.predict_proba(X_test)[:, 1]  # Probabilities for AUC\n"
      ],
      "metadata": {
        "colab": {
          "base_uri": "https://localhost:8080/"
        },
        "id": "yeRd2y2jIhAd",
        "outputId": "1f619c9e-c7e6-4e40-b519-dbedbd80f756"
      },
      "execution_count": 57,
      "outputs": [
        {
          "output_type": "stream",
          "name": "stdout",
          "text": [
            "[0]\tvalidation_0-logloss:0.57348\tvalidation_1-logloss:0.56370\n",
            "[1]\tvalidation_0-logloss:0.49776\tvalidation_1-logloss:0.48966\n",
            "[2]\tvalidation_0-logloss:0.43524\tvalidation_1-logloss:0.42841\n",
            "[3]\tvalidation_0-logloss:0.38269\tvalidation_1-logloss:0.37687\n",
            "[4]\tvalidation_0-logloss:0.33797\tvalidation_1-logloss:0.33295\n",
            "[5]\tvalidation_0-logloss:0.29954\tvalidation_1-logloss:0.29518\n",
            "[6]\tvalidation_0-logloss:0.26625\tvalidation_1-logloss:0.26243\n",
            "[7]\tvalidation_0-logloss:0.23724\tvalidation_1-logloss:0.23389\n"
          ]
        },
        {
          "output_type": "stream",
          "name": "stderr",
          "text": [
            "/usr/local/lib/python3.11/dist-packages/xgboost/core.py:158: UserWarning: [18:47:35] WARNING: /workspace/src/learner.cc:740: \n",
            "Parameters: { \"use_label_encoder\" } are not used.\n",
            "\n",
            "  warnings.warn(smsg, UserWarning)\n"
          ]
        },
        {
          "output_type": "stream",
          "name": "stdout",
          "text": [
            "[8]\tvalidation_0-logloss:0.21183\tvalidation_1-logloss:0.20887\n",
            "[9]\tvalidation_0-logloss:0.18948\tvalidation_1-logloss:0.18686\n",
            "[10]\tvalidation_0-logloss:0.16976\tvalidation_1-logloss:0.16742\n",
            "[11]\tvalidation_0-logloss:0.15230\tvalidation_1-logloss:0.15021\n",
            "[12]\tvalidation_0-logloss:0.13679\tvalidation_1-logloss:0.13492\n",
            "[13]\tvalidation_0-logloss:0.12300\tvalidation_1-logloss:0.12132\n",
            "[14]\tvalidation_0-logloss:0.11071\tvalidation_1-logloss:0.10920\n",
            "[15]\tvalidation_0-logloss:0.09979\tvalidation_1-logloss:0.09839\n",
            "[16]\tvalidation_0-logloss:0.09002\tvalidation_1-logloss:0.08872\n",
            "[17]\tvalidation_0-logloss:0.08128\tvalidation_1-logloss:0.08006\n",
            "[18]\tvalidation_0-logloss:0.07344\tvalidation_1-logloss:0.07229\n",
            "[19]\tvalidation_0-logloss:0.06636\tvalidation_1-logloss:0.06531\n",
            "[20]\tvalidation_0-logloss:0.06004\tvalidation_1-logloss:0.05905\n",
            "[21]\tvalidation_0-logloss:0.05431\tvalidation_1-logloss:0.05341\n",
            "[22]\tvalidation_0-logloss:0.04922\tvalidation_1-logloss:0.04836\n",
            "[23]\tvalidation_0-logloss:0.04462\tvalidation_1-logloss:0.04380\n",
            "[24]\tvalidation_0-logloss:0.04047\tvalidation_1-logloss:0.03969\n",
            "[25]\tvalidation_0-logloss:0.03675\tvalidation_1-logloss:0.03600\n",
            "[26]\tvalidation_0-logloss:0.03337\tvalidation_1-logloss:0.03266\n",
            "[27]\tvalidation_0-logloss:0.03034\tvalidation_1-logloss:0.02966\n",
            "[28]\tvalidation_0-logloss:0.02759\tvalidation_1-logloss:0.02694\n",
            "[29]\tvalidation_0-logloss:0.02512\tvalidation_1-logloss:0.02449\n",
            "[30]\tvalidation_0-logloss:0.02289\tvalidation_1-logloss:0.02230\n",
            "[31]\tvalidation_0-logloss:0.02089\tvalidation_1-logloss:0.02032\n",
            "[32]\tvalidation_0-logloss:0.01907\tvalidation_1-logloss:0.01852\n",
            "[33]\tvalidation_0-logloss:0.01743\tvalidation_1-logloss:0.01691\n",
            "[34]\tvalidation_0-logloss:0.01594\tvalidation_1-logloss:0.01544\n",
            "[35]\tvalidation_0-logloss:0.01460\tvalidation_1-logloss:0.01411\n",
            "[36]\tvalidation_0-logloss:0.01339\tvalidation_1-logloss:0.01292\n",
            "[37]\tvalidation_0-logloss:0.01229\tvalidation_1-logloss:0.01184\n",
            "[38]\tvalidation_0-logloss:0.01123\tvalidation_1-logloss:0.01083\n",
            "[39]\tvalidation_0-logloss:0.01033\tvalidation_1-logloss:0.00995\n",
            "[40]\tvalidation_0-logloss:0.00952\tvalidation_1-logloss:0.00914\n",
            "[41]\tvalidation_0-logloss:0.00879\tvalidation_1-logloss:0.00843\n",
            "[42]\tvalidation_0-logloss:0.00806\tvalidation_1-logloss:0.00774\n",
            "[43]\tvalidation_0-logloss:0.00744\tvalidation_1-logloss:0.00713\n",
            "[44]\tvalidation_0-logloss:0.00687\tvalidation_1-logloss:0.00659\n",
            "[45]\tvalidation_0-logloss:0.00638\tvalidation_1-logloss:0.00610\n",
            "[46]\tvalidation_0-logloss:0.00591\tvalidation_1-logloss:0.00565\n",
            "[47]\tvalidation_0-logloss:0.00548\tvalidation_1-logloss:0.00523\n",
            "[48]\tvalidation_0-logloss:0.00509\tvalidation_1-logloss:0.00485\n",
            "[49]\tvalidation_0-logloss:0.00474\tvalidation_1-logloss:0.00451\n",
            "[50]\tvalidation_0-logloss:0.00438\tvalidation_1-logloss:0.00417\n",
            "[51]\tvalidation_0-logloss:0.00407\tvalidation_1-logloss:0.00387\n",
            "[52]\tvalidation_0-logloss:0.00380\tvalidation_1-logloss:0.00361\n",
            "[53]\tvalidation_0-logloss:0.00355\tvalidation_1-logloss:0.00338\n",
            "[54]\tvalidation_0-logloss:0.00334\tvalidation_1-logloss:0.00317\n",
            "[55]\tvalidation_0-logloss:0.00316\tvalidation_1-logloss:0.00301\n",
            "[56]\tvalidation_0-logloss:0.00300\tvalidation_1-logloss:0.00285\n",
            "[57]\tvalidation_0-logloss:0.00282\tvalidation_1-logloss:0.00268\n",
            "[58]\tvalidation_0-logloss:0.00270\tvalidation_1-logloss:0.00257\n",
            "[59]\tvalidation_0-logloss:0.00257\tvalidation_1-logloss:0.00244\n",
            "[60]\tvalidation_0-logloss:0.00245\tvalidation_1-logloss:0.00232\n",
            "[61]\tvalidation_0-logloss:0.00234\tvalidation_1-logloss:0.00221\n",
            "[62]\tvalidation_0-logloss:0.00224\tvalidation_1-logloss:0.00211\n",
            "[63]\tvalidation_0-logloss:0.00216\tvalidation_1-logloss:0.00203\n",
            "[64]\tvalidation_0-logloss:0.00207\tvalidation_1-logloss:0.00195\n",
            "[65]\tvalidation_0-logloss:0.00201\tvalidation_1-logloss:0.00188\n",
            "[66]\tvalidation_0-logloss:0.00194\tvalidation_1-logloss:0.00183\n",
            "[67]\tvalidation_0-logloss:0.00187\tvalidation_1-logloss:0.00176\n",
            "[68]\tvalidation_0-logloss:0.00182\tvalidation_1-logloss:0.00171\n",
            "[69]\tvalidation_0-logloss:0.00177\tvalidation_1-logloss:0.00166\n",
            "[70]\tvalidation_0-logloss:0.00172\tvalidation_1-logloss:0.00160\n",
            "[71]\tvalidation_0-logloss:0.00167\tvalidation_1-logloss:0.00157\n",
            "[72]\tvalidation_0-logloss:0.00164\tvalidation_1-logloss:0.00153\n",
            "[73]\tvalidation_0-logloss:0.00159\tvalidation_1-logloss:0.00148\n",
            "[74]\tvalidation_0-logloss:0.00156\tvalidation_1-logloss:0.00145\n",
            "[75]\tvalidation_0-logloss:0.00151\tvalidation_1-logloss:0.00141\n",
            "[76]\tvalidation_0-logloss:0.00148\tvalidation_1-logloss:0.00138\n",
            "[77]\tvalidation_0-logloss:0.00146\tvalidation_1-logloss:0.00136\n",
            "[78]\tvalidation_0-logloss:0.00144\tvalidation_1-logloss:0.00134\n",
            "[79]\tvalidation_0-logloss:0.00142\tvalidation_1-logloss:0.00133\n",
            "[80]\tvalidation_0-logloss:0.00140\tvalidation_1-logloss:0.00132\n",
            "[81]\tvalidation_0-logloss:0.00139\tvalidation_1-logloss:0.00131\n",
            "[82]\tvalidation_0-logloss:0.00138\tvalidation_1-logloss:0.00130\n",
            "[83]\tvalidation_0-logloss:0.00136\tvalidation_1-logloss:0.00128\n",
            "[84]\tvalidation_0-logloss:0.00135\tvalidation_1-logloss:0.00127\n",
            "[85]\tvalidation_0-logloss:0.00133\tvalidation_1-logloss:0.00125\n",
            "[86]\tvalidation_0-logloss:0.00131\tvalidation_1-logloss:0.00123\n",
            "[87]\tvalidation_0-logloss:0.00130\tvalidation_1-logloss:0.00122\n",
            "[88]\tvalidation_0-logloss:0.00129\tvalidation_1-logloss:0.00121\n",
            "[89]\tvalidation_0-logloss:0.00127\tvalidation_1-logloss:0.00120\n",
            "[90]\tvalidation_0-logloss:0.00127\tvalidation_1-logloss:0.00119\n",
            "[91]\tvalidation_0-logloss:0.00125\tvalidation_1-logloss:0.00118\n",
            "[92]\tvalidation_0-logloss:0.00124\tvalidation_1-logloss:0.00117\n",
            "[93]\tvalidation_0-logloss:0.00123\tvalidation_1-logloss:0.00116\n",
            "[94]\tvalidation_0-logloss:0.00122\tvalidation_1-logloss:0.00115\n",
            "[95]\tvalidation_0-logloss:0.00121\tvalidation_1-logloss:0.00113\n",
            "[96]\tvalidation_0-logloss:0.00120\tvalidation_1-logloss:0.00112\n",
            "[97]\tvalidation_0-logloss:0.00119\tvalidation_1-logloss:0.00111\n",
            "[98]\tvalidation_0-logloss:0.00118\tvalidation_1-logloss:0.00111\n",
            "[99]\tvalidation_0-logloss:0.00117\tvalidation_1-logloss:0.00109\n"
          ]
        }
      ]
    },
    {
      "cell_type": "code",
      "source": [
        "# Access the XGBClassifier within the pipeline\n",
        "eval_result = pipeline.named_steps['classifier'].evals_result()\n",
        "training_rounds = range(len(eval_result['validation_0']['logloss']))"
      ],
      "metadata": {
        "id": "1UlztBTuI4R2"
      },
      "execution_count": 58,
      "outputs": []
    },
    {
      "cell_type": "code",
      "source": [
        "plt.scatter(x=training_rounds,y=eval_result['validation_0']['logloss'],label='Training Error')\n",
        "plt.scatter(x=training_rounds,y=eval_result['validation_1']['logloss'],label='Validation Error')\n",
        "plt.grid(True)\n",
        "plt.xlabel('Iterations')\n",
        "plt.ylabel('LogLoss')\n",
        "plt.title('Training Vs Validation Error')\n",
        "plt.legend()\n",
        "plt.show()"
      ],
      "metadata": {
        "colab": {
          "base_uri": "https://localhost:8080/",
          "height": 472
        },
        "id": "8_pwDiYoI9fl",
        "outputId": "9b9417f1-5fe5-45c8-ad95-7e2bcec19755"
      },
      "execution_count": 59,
      "outputs": [
        {
          "output_type": "display_data",
          "data": {
            "text/plain": [
              "<Figure size 640x480 with 1 Axes>"
            ],
            "image/png": "[encoded data removed]"
          },
          "metadata": {}
        }
      ]
    },
    {
      "cell_type": "code",
      "source": [
        "# Assume 'feature_names' is a list of your actual feature names\n",
        "clf = pipeline.named_steps['classifier']\n",
        "booster = clf.get_booster()\n",
        "\n",
        "# Get feature names from the preprocessor\n",
        "onehot_features = pipeline.named_steps['preprocessor'].named_transformers_['onehot'].get_feature_names_out(categorical_cols)\n",
        "# Combine one-hot encoded features with the remaining features\n",
        "booster.feature_names = list(onehot_features) + [col for col in X_train.columns if col not in categorical_cols]\n",
        "plt.figure(figsize=(20, 15))\n",
        "plot_importance(booster)\n",
        "plt.show()"
      ],
      "metadata": {
        "colab": {
          "base_uri": "https://localhost:8080/",
          "height": 489
        },
        "id": "fJn6ZwaDJGNq",
        "outputId": "530150fb-4579-4053-966f-975e08cbc9d0"
      },
      "execution_count": 60,
      "outputs": [
        {
          "output_type": "display_data",
          "data": {
            "text/plain": [
              "<Figure size 2000x1500 with 0 Axes>"
            ]
          },
          "metadata": {}
        },
        {
          "output_type": "display_data",
          "data": {
            "text/plain": [
              "<Figure size 640x480 with 1 Axes>"
            ],
            "image/png": "[encoded data removed]"
          },
          "metadata": {}
        }
      ]
    },
    {
      "cell_type": "code",
      "source": [
        "# Evaluate\n",
        "print(f\"Accuracy: {accuracy_score(y_test_encoded, y_pred):.4f}\")\n",
        "print(f\"ROC AUC: {roc_auc_score(y_test_encoded, y_pred_proba):.4f}\")\n",
        "print(\"Confusion Matrix:\\n\", confusion_matrix(y_test_encoded, y_pred))"
      ],
      "metadata": {
        "colab": {
          "base_uri": "https://localhost:8080/"
        },
        "id": "htUW7sC8JKCj",
        "outputId": "1b943389-b194-4c25-ec6a-82b6aac4f159"
      },
      "execution_count": 61,
      "outputs": [
        {
          "output_type": "stream",
          "name": "stdout",
          "text": [
            "Accuracy: 1.0000\n",
            "ROC AUC: 1.0000\n",
            "Confusion Matrix:\n",
            " [[722   0]\n",
            " [  0 407]]\n"
          ]
        }
      ]
    },
    {
      "cell_type": "code",
      "source": [],
      "metadata": {
        "id": "DVLt3641Ll06"
      },
      "execution_count": null,
      "outputs": []
    },
    {
      "cell_type": "markdown",
      "source": [
        "#A MODEL THAT INHERENTLY HANDLES MISSING DATA:LightGBM"
      ],
      "metadata": {
        "id": "CSfOF1_ZLoPR"
      }
    },
    {
      "cell_type": "markdown",
      "source": [
        "LightGBM handles categorical features and missingness natively."
      ],
      "metadata": {
        "id": "GDC4VGsaMTVK"
      }
    },
    {
      "cell_type": "code",
      "source": [
        "# Fill missing values (if any) with a placeholder before converting to categorical.\n",
        "X = X.fillna('missing')\n",
        "\n",
        "# Split data (assuming y is a DataFrame with a column \"poisonous\")\n",
        "X_train, X_test, y_train, y_test = train_test_split(\n",
        "    X, y['poisonous'], test_size=0.2, random_state=42\n",
        ")\n"
      ],
      "metadata": {
        "id": "gp_G1UcgL9dT"
      },
      "execution_count": 72,
      "outputs": []
    },
    {
      "cell_type": "code",
      "source": [
        "# Convert all columns to categorical\n",
        "X_train = X_train.astype('category')\n",
        "X_test = X_test.astype('category')\n",
        "categorical_cols = X_train.columns.tolist()\n",
        "\n",
        "# Encode target (fit only on y_train)\n",
        "le = LabelEncoder()\n",
        "y_train_encoded = le.fit_transform(y_train)\n",
        "y_test_encoded = le.transform(y_test)\n",
        "\n",
        "# Preprocessing: OneHotEncode categorical features\n",
        "preprocessor = ColumnTransformer(\n",
        "    transformers=[\n",
        "        (\"onehot\", OneHotEncoder(handle_unknown=\"ignore\"), categorical_cols)\n",
        "    ],\n",
        "    remainder=\"passthrough\"  # Keeps non-categorical columns unchanged\n",
        ")\n"
      ],
      "metadata": {
        "id": "FaZfxhBrOOsN"
      },
      "execution_count": 73,
      "outputs": []
    },
    {
      "cell_type": "code",
      "source": [
        "model5 = lgb.LGBMClassifier(enable_categorical=True)\n"
      ],
      "metadata": {
        "id": "qdS6WnVsOoxz"
      },
      "execution_count": 74,
      "outputs": []
    },
    {
      "cell_type": "code",
      "source": [
        "# Create pipeline with preprocessor and classifier\n",
        "pipeline = Pipeline([\n",
        "    (\"preprocessor\", preprocessor),\n",
        "    (\"classifier\", model5)\n",
        "])\n",
        "\n",
        "# Pre-fit the preprocessor for evaluation (we must transform eval data manually)\n",
        "X_train_transformed = pipeline.named_steps['preprocessor'].fit_transform(X_train)\n",
        "X_test_transformed = pipeline.named_steps['preprocessor'].transform(X_test)\n"
      ],
      "metadata": {
        "id": "hyLVDTyIOyBv"
      },
      "execution_count": 75,
      "outputs": []
    },
    {
      "cell_type": "code",
      "source": [
        "# Fit the pipeline.\n",
        "# Note: The eval_set is passed directly to the classifier, so we supply preprocessed data.\n",
        "pipeline.fit(\n",
        "    X_train,\n",
        "    y_train_encoded)#classifier__eval_set=[(X_train_transformed, y_train_encoded), (X_test_transformed, y_test_encoded)]\n",
        "\n",
        "# Predict on test data using the pipeline (which will transform the data before predicting)\n",
        "y_pred = pipeline.predict(X_test)\n",
        "y_pred_proba = pipeline.predict_proba(X_test)[:, 1]  # Probabilities for AUC\n"
      ],
      "metadata": {
        "colab": {
          "base_uri": "https://localhost:8080/"
        },
        "id": "OMxVUw_NOUsk",
        "outputId": "7d4ef216-3f40-4e13-fcd1-036c2d689563"
      },
      "execution_count": 81,
      "outputs": [
        {
          "output_type": "stream",
          "name": "stdout",
          "text": [
            "[LightGBM] [Warning] Unknown parameter: enable_categorical\n",
            "[LightGBM] [Warning] Unknown parameter: enable_categorical\n",
            "[LightGBM] [Info] Number of positive: 3134, number of negative: 3365\n",
            "[LightGBM] [Info] Auto-choosing row-wise multi-threading, the overhead of testing was 0.001007 seconds.\n",
            "You can set `force_row_wise=true` to remove the overhead.\n",
            "And if memory is not enough, you can set `force_col_wise=true`.\n",
            "[LightGBM] [Info] Total Bins 216\n",
            "[LightGBM] [Info] Number of data points in the train set: 6499, number of used features: 108\n",
            "[LightGBM] [Info] [binary:BoostFromScore]: pavg=0.482228 -> initscore=-0.071118\n",
            "[LightGBM] [Info] Start training from score -0.071118\n",
            "[LightGBM] [Warning] No further splits with positive gain, best gain: -inf\n",
            "[LightGBM] [Warning] No further splits with positive gain, best gain: -inf\n",
            "[LightGBM] [Warning] No further splits with positive gain, best gain: -inf\n",
            "[LightGBM] [Warning] No further splits with positive gain, best gain: -inf\n",
            "[LightGBM] [Warning] No further splits with positive gain, best gain: -inf\n",
            "[LightGBM] [Warning] No further splits with positive gain, best gain: -inf\n",
            "[LightGBM] [Warning] No further splits with positive gain, best gain: -inf\n",
            "[LightGBM] [Warning] No further splits with positive gain, best gain: -inf\n",
            "[LightGBM] [Warning] No further splits with positive gain, best gain: -inf\n",
            "[LightGBM] [Warning] No further splits with positive gain, best gain: -inf\n",
            "[LightGBM] [Warning] No further splits with positive gain, best gain: -inf\n",
            "[LightGBM] [Warning] No further splits with positive gain, best gain: -inf\n",
            "[LightGBM] [Warning] No further splits with positive gain, best gain: -inf\n",
            "[LightGBM] [Warning] No further splits with positive gain, best gain: -inf\n",
            "[LightGBM] [Warning] No further splits with positive gain, best gain: -inf\n",
            "[LightGBM] [Warning] No further splits with positive gain, best gain: -inf\n",
            "[LightGBM] [Warning] No further splits with positive gain, best gain: -inf\n",
            "[LightGBM] [Warning] No further splits with positive gain, best gain: -inf\n",
            "[LightGBM] [Warning] No further splits with positive gain, best gain: -inf\n",
            "[LightGBM] [Warning] No further splits with positive gain, best gain: -inf\n",
            "[LightGBM] [Warning] No further splits with positive gain, best gain: -inf\n",
            "[LightGBM] [Warning] No further splits with positive gain, best gain: -inf\n",
            "[LightGBM] [Warning] No further splits with positive gain, best gain: -inf\n",
            "[LightGBM] [Warning] No further splits with positive gain, best gain: -inf\n",
            "[LightGBM] [Warning] No further splits with positive gain, best gain: -inf\n",
            "[LightGBM] [Warning] No further splits with positive gain, best gain: -inf\n",
            "[LightGBM] [Warning] No further splits with positive gain, best gain: -inf\n",
            "[LightGBM] [Warning] No further splits with positive gain, best gain: -inf\n",
            "[LightGBM] [Warning] No further splits with positive gain, best gain: -inf\n",
            "[LightGBM] [Warning] No further splits with positive gain, best gain: -inf\n",
            "[LightGBM] [Warning] No further splits with positive gain, best gain: -inf\n",
            "[LightGBM] [Warning] No further splits with positive gain, best gain: -inf\n",
            "[LightGBM] [Warning] No further splits with positive gain, best gain: -inf\n",
            "[LightGBM] [Warning] No further splits with positive gain, best gain: -inf\n",
            "[LightGBM] [Warning] No further splits with positive gain, best gain: -inf\n",
            "[LightGBM] [Warning] No further splits with positive gain, best gain: -inf\n",
            "[LightGBM] [Warning] No further splits with positive gain, best gain: -inf\n",
            "[LightGBM] [Warning] No further splits with positive gain, best gain: -inf\n",
            "[LightGBM] [Warning] No further splits with positive gain, best gain: -inf\n",
            "[LightGBM] [Warning] No further splits with positive gain, best gain: -inf\n",
            "[LightGBM] [Warning] No further splits with positive gain, best gain: -inf\n",
            "[LightGBM] [Warning] No further splits with positive gain, best gain: -inf\n",
            "[LightGBM] [Warning] No further splits with positive gain, best gain: -inf\n",
            "[LightGBM] [Warning] No further splits with positive gain, best gain: -inf\n",
            "[LightGBM] [Warning] No further splits with positive gain, best gain: -inf\n",
            "[LightGBM] [Warning] No further splits with positive gain, best gain: -inf\n",
            "[LightGBM] [Warning] No further splits with positive gain, best gain: -inf\n",
            "[LightGBM] [Warning] No further splits with positive gain, best gain: -inf\n",
            "[LightGBM] [Warning] No further splits with positive gain, best gain: -inf\n",
            "[LightGBM] [Warning] No further splits with positive gain, best gain: -inf\n",
            "[LightGBM] [Warning] No further splits with positive gain, best gain: -inf\n",
            "[LightGBM] [Warning] No further splits with positive gain, best gain: -inf\n",
            "[LightGBM] [Warning] No further splits with positive gain, best gain: -inf\n",
            "[LightGBM] [Warning] No further splits with positive gain, best gain: -inf\n",
            "[LightGBM] [Warning] No further splits with positive gain, best gain: -inf\n",
            "[LightGBM] [Warning] No further splits with positive gain, best gain: -inf\n",
            "[LightGBM] [Warning] No further splits with positive gain, best gain: -inf\n",
            "[LightGBM] [Warning] No further splits with positive gain, best gain: -inf\n",
            "[LightGBM] [Warning] No further splits with positive gain, best gain: -inf\n",
            "[LightGBM] [Warning] No further splits with positive gain, best gain: -inf\n",
            "[LightGBM] [Warning] No further splits with positive gain, best gain: -inf\n",
            "[LightGBM] [Warning] No further splits with positive gain, best gain: -inf\n",
            "[LightGBM] [Warning] No further splits with positive gain, best gain: -inf\n",
            "[LightGBM] [Warning] No further splits with positive gain, best gain: -inf\n",
            "[LightGBM] [Warning] No further splits with positive gain, best gain: -inf\n",
            "[LightGBM] [Warning] No further splits with positive gain, best gain: -inf\n",
            "[LightGBM] [Warning] No further splits with positive gain, best gain: -inf\n",
            "[LightGBM] [Warning] No further splits with positive gain, best gain: -inf\n",
            "[LightGBM] [Warning] No further splits with positive gain, best gain: -inf\n",
            "[LightGBM] [Warning] No further splits with positive gain, best gain: -inf\n",
            "[LightGBM] [Warning] No further splits with positive gain, best gain: -inf\n",
            "[LightGBM] [Warning] No further splits with positive gain, best gain: -inf\n",
            "[LightGBM] [Warning] No further splits with positive gain, best gain: -inf\n",
            "[LightGBM] [Warning] No further splits with positive gain, best gain: -inf\n",
            "[LightGBM] [Warning] No further splits with positive gain, best gain: -inf\n",
            "[LightGBM] [Warning] No further splits with positive gain, best gain: -inf\n",
            "[LightGBM] [Warning] No further splits with positive gain, best gain: -inf\n",
            "[LightGBM] [Warning] No further splits with positive gain, best gain: -inf\n",
            "[LightGBM] [Warning] No further splits with positive gain, best gain: -inf\n",
            "[LightGBM] [Warning] No further splits with positive gain, best gain: -inf\n",
            "[LightGBM] [Warning] No further splits with positive gain, best gain: -inf\n",
            "[LightGBM] [Warning] No further splits with positive gain, best gain: -inf\n",
            "[LightGBM] [Warning] No further splits with positive gain, best gain: -inf\n",
            "[LightGBM] [Warning] No further splits with positive gain, best gain: -inf\n",
            "[LightGBM] [Warning] No further splits with positive gain, best gain: -inf\n",
            "[LightGBM] [Warning] No further splits with positive gain, best gain: -inf\n",
            "[LightGBM] [Warning] No further splits with positive gain, best gain: -inf\n",
            "[LightGBM] [Warning] No further splits with positive gain, best gain: -inf\n",
            "[LightGBM] [Warning] No further splits with positive gain, best gain: -inf\n",
            "[LightGBM] [Warning] No further splits with positive gain, best gain: -inf\n",
            "[LightGBM] [Warning] No further splits with positive gain, best gain: -inf\n",
            "[LightGBM] [Warning] No further splits with positive gain, best gain: -inf\n",
            "[LightGBM] [Warning] No further splits with positive gain, best gain: -inf\n",
            "[LightGBM] [Warning] No further splits with positive gain, best gain: -inf\n",
            "[LightGBM] [Warning] No further splits with positive gain, best gain: -inf\n",
            "[LightGBM] [Warning] No further splits with positive gain, best gain: -inf\n",
            "[LightGBM] [Warning] No further splits with positive gain, best gain: -inf\n",
            "[LightGBM] [Warning] No further splits with positive gain, best gain: -inf\n",
            "[LightGBM] [Warning] No further splits with positive gain, best gain: -inf\n",
            "[LightGBM] [Warning] No further splits with positive gain, best gain: -inf\n",
            "[LightGBM] [Warning] Unknown parameter: enable_categorical\n",
            "[LightGBM] [Warning] Unknown parameter: enable_categorical\n"
          ]
        },
        {
          "output_type": "stream",
          "name": "stderr",
          "text": [
            "/usr/local/lib/python3.11/dist-packages/sklearn/utils/deprecation.py:151: FutureWarning: 'force_all_finite' was renamed to 'ensure_all_finite' in 1.6 and will be removed in 1.8.\n",
            "  warnings.warn(\n",
            "/usr/local/lib/python3.11/dist-packages/sklearn/utils/deprecation.py:151: FutureWarning: 'force_all_finite' was renamed to 'ensure_all_finite' in 1.6 and will be removed in 1.8.\n",
            "  warnings.warn(\n",
            "/usr/local/lib/python3.11/dist-packages/sklearn/utils/deprecation.py:151: FutureWarning: 'force_all_finite' was renamed to 'ensure_all_finite' in 1.6 and will be removed in 1.8.\n",
            "  warnings.warn(\n"
          ]
        }
      ]
    },
    {
      "cell_type": "code",
      "source": [
        "# Evaluate using the encoded target values\n",
        "print(f\"Accuracy: {accuracy_score(y_test_encoded, y_pred):.4f}\")\n",
        "print(f\"ROC AUC: {roc_auc_score(y_test_encoded, y_pred_proba):.4f}\")\n",
        "print(\"Confusion Matrix:\\n\", confusion_matrix(y_test_encoded, y_pred))"
      ],
      "metadata": {
        "colab": {
          "base_uri": "https://localhost:8080/"
        },
        "id": "1H1OAG7oM9Up",
        "outputId": "cab435ca-b886-410e-bf94-4dd6beef534b"
      },
      "execution_count": 82,
      "outputs": [
        {
          "output_type": "stream",
          "name": "stdout",
          "text": [
            "Accuracy: 1.0000\n",
            "ROC AUC: 1.0000\n",
            "Confusion Matrix:\n",
            " [[843   0]\n",
            " [  0 782]]\n"
          ]
        }
      ]
    }
  ]
}